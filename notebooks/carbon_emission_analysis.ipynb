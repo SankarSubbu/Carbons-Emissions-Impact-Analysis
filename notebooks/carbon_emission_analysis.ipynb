{
 "cells": [
  {
   "cell_type": "markdown",
   "id": "629dc729",
   "metadata": {},
   "source": [
    "# Carbon Emissions Impact Analysis"
   ]
  },
  {
   "cell_type": "markdown",
   "id": "450292bf",
   "metadata": {},
   "source": [
    "Importing necessary libraries"
   ]
  },
  {
   "cell_type": "code",
   "execution_count": 1,
   "id": "1762bc44",
   "metadata": {},
   "outputs": [],
   "source": [
    "import pandas as pd"
   ]
  },
  {
   "cell_type": "markdown",
   "id": "fe5f789c",
   "metadata": {},
   "source": [
    "Load datasets"
   ]
  },
  {
   "cell_type": "code",
   "execution_count": 2,
   "id": "7fd7a192",
   "metadata": {},
   "outputs": [
    {
     "data": {
      "text/plain": [
       "(   ObjectId                       Country ISO2 ISO3  F1961  F1962  F1963  \\\n",
       " 0         1  Afghanistan, Islamic Rep. of   AF  AFG -0.113 -0.164  0.847   \n",
       " 1         2                       Albania   AL  ALB  0.627  0.326  0.075   \n",
       " 2         3                       Algeria   DZ  DZA  0.164  0.114  0.077   \n",
       " 3         4                American Samoa   AS  ASM  0.079 -0.042  0.169   \n",
       " 4         5      Andorra, Principality of   AD  AND  0.736  0.112 -0.752   \n",
       " \n",
       "    F1964  F1965  F1966  ...  F2013  F2014  F2015  F2016  F2017  F2018  F2019  \\\n",
       " 0 -0.764 -0.244  0.226  ...  1.281  0.456  1.093  1.555  1.540  1.544  0.910   \n",
       " 1 -0.166 -0.388  0.559  ...  1.333  1.198  1.569  1.464  1.121  2.028  1.675   \n",
       " 2  0.250 -0.100  0.433  ...  1.192  1.690  1.121  1.757  1.512  1.210  1.115   \n",
       " 3 -0.140 -0.562  0.181  ...  1.257  1.170  1.009  1.539  1.435  1.189  1.539   \n",
       " 4  0.308 -0.490  0.415  ...  0.831  1.946  1.690  1.990  1.925  1.919  1.964   \n",
       " \n",
       "    F2020  F2021  F2022  \n",
       " 0  0.498  1.327  2.012  \n",
       " 1  1.498  1.536  1.518  \n",
       " 2  1.926  2.330  1.688  \n",
       " 3  1.430  1.268  1.256  \n",
       " 4  2.562  1.533  3.243  \n",
       " \n",
       " [5 rows x 66 columns],\n",
       "    ObjectId Country     Date   Value\n",
       " 0         1   World  1958M03  315.70\n",
       " 1         2   World  1958M04  317.45\n",
       " 2         3   World  1958M05  317.51\n",
       " 3         4   World  1958M06  317.24\n",
       " 4         5   World  1958M07  315.86)"
      ]
     },
     "execution_count": 2,
     "metadata": {},
     "output_type": "execute_result"
    }
   ],
   "source": [
    "temperature_data = pd.read_csv('../data/temperature.csv')\n",
    "co2_data = pd.read_csv('../data/carbon_emmission.csv')\n",
    "\n",
    "temperature_data_preview = temperature_data.head()\n",
    "co2_data_preview = co2_data.head()\n",
    "\n",
    "temperature_data_preview, co2_data_preview"
   ]
  },
  {
   "cell_type": "markdown",
   "id": "feab8984",
   "metadata": {},
   "source": [
    "Now let's calculate key statistics for tempreature changes and CO2 concetrations, such as mean, median, and variance"
   ]
  },
  {
   "cell_type": "code",
   "execution_count": 3,
   "id": "afeb6f6e",
   "metadata": {},
   "outputs": [
    {
     "data": {
      "text/plain": [
       "({'Mean': np.float64(0.5377713483146067),\n",
       "  'Median': np.float64(0.47),\n",
       "  'Variance': np.float64(0.4294524831504413)},\n",
       " {'Mean': np.float64(180.71615286624203),\n",
       "  'Median': np.float64(313.835),\n",
       "  'Variance': np.float64(32600.002004693)})"
      ]
     },
     "execution_count": 3,
     "metadata": {},
     "output_type": "execute_result"
    }
   ],
   "source": [
    "# selecting and computing statistics for tempreature changes\n",
    "temperature_values = temperature_data.filter(regex='^F').stack()\n",
    "temperature_stats = {\n",
    "    \"Mean\": temperature_values.mean(),\n",
    "    \"Median\": temperature_values.median(),\n",
    "    \"Variance\": temperature_values.var()\n",
    "}\n",
    "\n",
    "# computing statistics for CO2 concentrations\n",
    "co2_values = co2_data[\"Value\"]\n",
    "co2_stats = {\n",
    "    \"Mean\": co2_values.mean(),\n",
    "    \"Median\": co2_values.median(),\n",
    "    \"Variance\": co2_values.var()\n",
    "}\n",
    "\n",
    "temperature_stats, co2_stats"
   ]
  },
  {
   "cell_type": "markdown",
   "id": "4922e6e8",
   "metadata": {},
   "source": [
    "The mean temperature change is approximately 0.54°C, with a median of 0.47°C and a variance of 0.43, indicating slight variability in temperature anomalies. For CO₂ concentrations, the mean is 180.72 ppm, the median is significantly higher at 313.84 ppm, and the variance is 32,600, which reflects substantial variability in CO₂ levels over the dataset’s timeframe. This highlights the stronger fluctuation in CO₂ data compared to temperature changes."
   ]
  },
  {
   "cell_type": "markdown",
   "id": "4917ca69",
   "metadata": {},
   "source": [
    "# Time-Series Analysis"
   ]
  },
  {
   "cell_type": "markdown",
   "id": "2f235ecb",
   "metadata": {},
   "source": [
    "Next we'll examine how tempreature changes and CO2 concetrations have evolved overtime and the realtionships between them:"
   ]
  },
  {
   "cell_type": "code",
   "execution_count": 5,
   "id": "e12c964b",
   "metadata": {},
   "outputs": [
    {
     "data": {
      "application/vnd.plotly.v1+json": {
       "config": {
        "plotlyServerURL": "https://plot.ly"
       },
       "data": [
        {
         "mode": "lines+markers",
         "name": "Temperature Change (°C)",
         "type": "scatter",
         "x": {
          "bdata": "qQeqB6sHrAetB64HrwewB7EHsgezB7QHtQe2B7cHuAe5B7oHuwe8B70Hvge/B8AHwQfCB8MHxAfFB8YHxwfIB8kHygfLB8wHzQfOB88H0AfRB9IH0wfUB9UH1gfXB9gH2QfaB9sH3AfdB94H3wfgB+EH4gfjB+QH5QfmBw==",
          "dtype": "i2"
         },
         "y": {
          "bdata": "HEV6Tu3exD+jkPWqZ5mLv+b1d4UTwHi/JXr/w1rvsb9XmftGkZ7Pv+ttWatjArs/cvEuIoRfvL95NrhMb3zJv6whYmhyN8Q/Ba4kjzattz8yRdmzaarJvyPb+X5qvLW/DXJUMu1bzT+R7Xw/Nd7Ev/KFilf9Dpi/MrrZayd6z79HxuU8dznFP5qDF1Y/07E/ldRurB/tzT9xUGa+IafPP0L/1k/O3cY/i7MPn2GXxj+NE0cV1w3WP+tkPJKMgrQ/vsbVUuE/sj82pjZTJFnDP8Wfz2vd69k/NZplPaBd3z+/GKw7EGXQPwM76hCvxOE/DrVnfAOQ1z+76t4hUUXOP5wH2Opqpcs/O8gxZCSB4z8MPQ7utyLkP7k/mYPh3tE/lniMjmho4T+USIvffxTvPzaIhBcgyec/NriVVepu5T+PlLnWdTTrP5iZmZmZme0/1UgdeuwD6z+57NR/EeToPx63Hd+yS+s/w9IWrOoM7D/3h5KyW1zwPzgOkHB/3uk/jo8dY1sj7T9rH/rqrJXxPzpIz0HXSOo/mistTgPf7D8N1iYAYsztP2WdKw9I1vE/BSoKpv1Q9D8uZxVORwj3Px2CDnYYfvQ/fOf1GXTV9D/1g2Qqxxb3P8gSWoUl1fg/uwzU2hl/9T/DyHAuIh32Pw==",
          "dtype": "f8"
         }
        },
        {
         "line": {
          "dash": "dash"
         },
         "mode": "lines+markers",
         "name": "CO₂ Concentration (ppm)",
         "type": "scatter",
         "x": {
          "bdata": "pgenB6gHqQeqB6sHrAetB64HrwewB7EHsgezB7QHtQe2B7cHuAe5B7oHuwe8B70Hvge/B8AHwQfCB8MHxAfFB8YHxwfIB8kHygfLB8wHzQfOB88H0AfRB9IH0wfUB9UH1gfXB9gH2QfaB9sH3AfdB94H3wfgB+EH4gfjB+QH5QfmB+cH6Ac=",
          "dtype": "i2"
         },
         "y": {
          "bdata": "wcqhRbazc0CzwCsLvI5lQKcNdNpA02NAOm2g0wbeY0CPwvUoXOtjQGAs+cWS8mNAY8kvlvz8Y0CrqqqqqgJkQCW/WPKLHGRA7+7u7u4mZEDotIFOGzVkQPYoXI/CUWRAhetRuB5gZEDQaQOdNmhkQBhLfrHkfGRA5RdLfrGlZEDD9Shcj6VkQNMGOm2gtmRA9ihcj8LEZEB+seQXS+ZkQFyPwvUo/mRAv1jyiyUUZUDyiyW/WDVlQFVVVVVVSGVAdNpApw1eZUB/seQXS3plQN3d3d3dlWVA7FG4HoWsZUDD9Shcj79lQKRwPQrX3GVA7+7u7u4FZkBcj8L1KBpmQLWBThvoLGZAtYFOG+hAZkCIiIiIiExmQD0K16NwVmZAXI/C9Sh3ZkB4d3d3d5hmQJNfLPnFs2ZA16NwPQrDZkAUrkfhevpmQHTaQKcNEGdAZ2ZmZmYgZ0ARERERETxnQD0K16NwYGdAN9BpA52KZ0A9CtejcKJnQKDTBjptyWdAVVVVVVXqZ0Cx5BdLfghoQEGnDXTaJGhA9Shcj8JBaEAwlvxiyWtoQM3MzMzMhGhAtYFOG+ipaEBI4XoUrtZoQJDC9Shc9WhAO22g0wYZaUCX/GLJL1RpQASdNtBpdWlAXI/C9SiTaUDd3d3d3cVpQFVVVVVV7WlA6LSBThsPakD9YskvljBqQJ020GkDW2pAw/UoXI/C5T8=",
          "dtype": "f8"
         }
        }
       ],
       "layout": {
        "legend": {
         "title": {
          "text": "Metrics"
         }
        },
        "template": {
         "data": {
          "bar": [
           {
            "error_x": {
             "color": "#2a3f5f"
            },
            "error_y": {
             "color": "#2a3f5f"
            },
            "marker": {
             "line": {
              "color": "white",
              "width": 0.5
             },
             "pattern": {
              "fillmode": "overlay",
              "size": 10,
              "solidity": 0.2
             }
            },
            "type": "bar"
           }
          ],
          "barpolar": [
           {
            "marker": {
             "line": {
              "color": "white",
              "width": 0.5
             },
             "pattern": {
              "fillmode": "overlay",
              "size": 10,
              "solidity": 0.2
             }
            },
            "type": "barpolar"
           }
          ],
          "carpet": [
           {
            "aaxis": {
             "endlinecolor": "#2a3f5f",
             "gridcolor": "#C8D4E3",
             "linecolor": "#C8D4E3",
             "minorgridcolor": "#C8D4E3",
             "startlinecolor": "#2a3f5f"
            },
            "baxis": {
             "endlinecolor": "#2a3f5f",
             "gridcolor": "#C8D4E3",
             "linecolor": "#C8D4E3",
             "minorgridcolor": "#C8D4E3",
             "startlinecolor": "#2a3f5f"
            },
            "type": "carpet"
           }
          ],
          "choropleth": [
           {
            "colorbar": {
             "outlinewidth": 0,
             "ticks": ""
            },
            "type": "choropleth"
           }
          ],
          "contour": [
           {
            "colorbar": {
             "outlinewidth": 0,
             "ticks": ""
            },
            "colorscale": [
             [
              0,
              "#0d0887"
             ],
             [
              0.1111111111111111,
              "#46039f"
             ],
             [
              0.2222222222222222,
              "#7201a8"
             ],
             [
              0.3333333333333333,
              "#9c179e"
             ],
             [
              0.4444444444444444,
              "#bd3786"
             ],
             [
              0.5555555555555556,
              "#d8576b"
             ],
             [
              0.6666666666666666,
              "#ed7953"
             ],
             [
              0.7777777777777778,
              "#fb9f3a"
             ],
             [
              0.8888888888888888,
              "#fdca26"
             ],
             [
              1,
              "#f0f921"
             ]
            ],
            "type": "contour"
           }
          ],
          "contourcarpet": [
           {
            "colorbar": {
             "outlinewidth": 0,
             "ticks": ""
            },
            "type": "contourcarpet"
           }
          ],
          "heatmap": [
           {
            "colorbar": {
             "outlinewidth": 0,
             "ticks": ""
            },
            "colorscale": [
             [
              0,
              "#0d0887"
             ],
             [
              0.1111111111111111,
              "#46039f"
             ],
             [
              0.2222222222222222,
              "#7201a8"
             ],
             [
              0.3333333333333333,
              "#9c179e"
             ],
             [
              0.4444444444444444,
              "#bd3786"
             ],
             [
              0.5555555555555556,
              "#d8576b"
             ],
             [
              0.6666666666666666,
              "#ed7953"
             ],
             [
              0.7777777777777778,
              "#fb9f3a"
             ],
             [
              0.8888888888888888,
              "#fdca26"
             ],
             [
              1,
              "#f0f921"
             ]
            ],
            "type": "heatmap"
           }
          ],
          "histogram": [
           {
            "marker": {
             "pattern": {
              "fillmode": "overlay",
              "size": 10,
              "solidity": 0.2
             }
            },
            "type": "histogram"
           }
          ],
          "histogram2d": [
           {
            "colorbar": {
             "outlinewidth": 0,
             "ticks": ""
            },
            "colorscale": [
             [
              0,
              "#0d0887"
             ],
             [
              0.1111111111111111,
              "#46039f"
             ],
             [
              0.2222222222222222,
              "#7201a8"
             ],
             [
              0.3333333333333333,
              "#9c179e"
             ],
             [
              0.4444444444444444,
              "#bd3786"
             ],
             [
              0.5555555555555556,
              "#d8576b"
             ],
             [
              0.6666666666666666,
              "#ed7953"
             ],
             [
              0.7777777777777778,
              "#fb9f3a"
             ],
             [
              0.8888888888888888,
              "#fdca26"
             ],
             [
              1,
              "#f0f921"
             ]
            ],
            "type": "histogram2d"
           }
          ],
          "histogram2dcontour": [
           {
            "colorbar": {
             "outlinewidth": 0,
             "ticks": ""
            },
            "colorscale": [
             [
              0,
              "#0d0887"
             ],
             [
              0.1111111111111111,
              "#46039f"
             ],
             [
              0.2222222222222222,
              "#7201a8"
             ],
             [
              0.3333333333333333,
              "#9c179e"
             ],
             [
              0.4444444444444444,
              "#bd3786"
             ],
             [
              0.5555555555555556,
              "#d8576b"
             ],
             [
              0.6666666666666666,
              "#ed7953"
             ],
             [
              0.7777777777777778,
              "#fb9f3a"
             ],
             [
              0.8888888888888888,
              "#fdca26"
             ],
             [
              1,
              "#f0f921"
             ]
            ],
            "type": "histogram2dcontour"
           }
          ],
          "mesh3d": [
           {
            "colorbar": {
             "outlinewidth": 0,
             "ticks": ""
            },
            "type": "mesh3d"
           }
          ],
          "parcoords": [
           {
            "line": {
             "colorbar": {
              "outlinewidth": 0,
              "ticks": ""
             }
            },
            "type": "parcoords"
           }
          ],
          "pie": [
           {
            "automargin": true,
            "type": "pie"
           }
          ],
          "scatter": [
           {
            "fillpattern": {
             "fillmode": "overlay",
             "size": 10,
             "solidity": 0.2
            },
            "type": "scatter"
           }
          ],
          "scatter3d": [
           {
            "line": {
             "colorbar": {
              "outlinewidth": 0,
              "ticks": ""
             }
            },
            "marker": {
             "colorbar": {
              "outlinewidth": 0,
              "ticks": ""
             }
            },
            "type": "scatter3d"
           }
          ],
          "scattercarpet": [
           {
            "marker": {
             "colorbar": {
              "outlinewidth": 0,
              "ticks": ""
             }
            },
            "type": "scattercarpet"
           }
          ],
          "scattergeo": [
           {
            "marker": {
             "colorbar": {
              "outlinewidth": 0,
              "ticks": ""
             }
            },
            "type": "scattergeo"
           }
          ],
          "scattergl": [
           {
            "marker": {
             "colorbar": {
              "outlinewidth": 0,
              "ticks": ""
             }
            },
            "type": "scattergl"
           }
          ],
          "scattermap": [
           {
            "marker": {
             "colorbar": {
              "outlinewidth": 0,
              "ticks": ""
             }
            },
            "type": "scattermap"
           }
          ],
          "scattermapbox": [
           {
            "marker": {
             "colorbar": {
              "outlinewidth": 0,
              "ticks": ""
             }
            },
            "type": "scattermapbox"
           }
          ],
          "scatterpolar": [
           {
            "marker": {
             "colorbar": {
              "outlinewidth": 0,
              "ticks": ""
             }
            },
            "type": "scatterpolar"
           }
          ],
          "scatterpolargl": [
           {
            "marker": {
             "colorbar": {
              "outlinewidth": 0,
              "ticks": ""
             }
            },
            "type": "scatterpolargl"
           }
          ],
          "scatterternary": [
           {
            "marker": {
             "colorbar": {
              "outlinewidth": 0,
              "ticks": ""
             }
            },
            "type": "scatterternary"
           }
          ],
          "surface": [
           {
            "colorbar": {
             "outlinewidth": 0,
             "ticks": ""
            },
            "colorscale": [
             [
              0,
              "#0d0887"
             ],
             [
              0.1111111111111111,
              "#46039f"
             ],
             [
              0.2222222222222222,
              "#7201a8"
             ],
             [
              0.3333333333333333,
              "#9c179e"
             ],
             [
              0.4444444444444444,
              "#bd3786"
             ],
             [
              0.5555555555555556,
              "#d8576b"
             ],
             [
              0.6666666666666666,
              "#ed7953"
             ],
             [
              0.7777777777777778,
              "#fb9f3a"
             ],
             [
              0.8888888888888888,
              "#fdca26"
             ],
             [
              1,
              "#f0f921"
             ]
            ],
            "type": "surface"
           }
          ],
          "table": [
           {
            "cells": {
             "fill": {
              "color": "#EBF0F8"
             },
             "line": {
              "color": "white"
             }
            },
            "header": {
             "fill": {
              "color": "#C8D4E3"
             },
             "line": {
              "color": "white"
             }
            },
            "type": "table"
           }
          ]
         },
         "layout": {
          "annotationdefaults": {
           "arrowcolor": "#2a3f5f",
           "arrowhead": 0,
           "arrowwidth": 1
          },
          "autotypenumbers": "strict",
          "coloraxis": {
           "colorbar": {
            "outlinewidth": 0,
            "ticks": ""
           }
          },
          "colorscale": {
           "diverging": [
            [
             0,
             "#8e0152"
            ],
            [
             0.1,
             "#c51b7d"
            ],
            [
             0.2,
             "#de77ae"
            ],
            [
             0.3,
             "#f1b6da"
            ],
            [
             0.4,
             "#fde0ef"
            ],
            [
             0.5,
             "#f7f7f7"
            ],
            [
             0.6,
             "#e6f5d0"
            ],
            [
             0.7,
             "#b8e186"
            ],
            [
             0.8,
             "#7fbc41"
            ],
            [
             0.9,
             "#4d9221"
            ],
            [
             1,
             "#276419"
            ]
           ],
           "sequential": [
            [
             0,
             "#0d0887"
            ],
            [
             0.1111111111111111,
             "#46039f"
            ],
            [
             0.2222222222222222,
             "#7201a8"
            ],
            [
             0.3333333333333333,
             "#9c179e"
            ],
            [
             0.4444444444444444,
             "#bd3786"
            ],
            [
             0.5555555555555556,
             "#d8576b"
            ],
            [
             0.6666666666666666,
             "#ed7953"
            ],
            [
             0.7777777777777778,
             "#fb9f3a"
            ],
            [
             0.8888888888888888,
             "#fdca26"
            ],
            [
             1,
             "#f0f921"
            ]
           ],
           "sequentialminus": [
            [
             0,
             "#0d0887"
            ],
            [
             0.1111111111111111,
             "#46039f"
            ],
            [
             0.2222222222222222,
             "#7201a8"
            ],
            [
             0.3333333333333333,
             "#9c179e"
            ],
            [
             0.4444444444444444,
             "#bd3786"
            ],
            [
             0.5555555555555556,
             "#d8576b"
            ],
            [
             0.6666666666666666,
             "#ed7953"
            ],
            [
             0.7777777777777778,
             "#fb9f3a"
            ],
            [
             0.8888888888888888,
             "#fdca26"
            ],
            [
             1,
             "#f0f921"
            ]
           ]
          },
          "colorway": [
           "#636efa",
           "#EF553B",
           "#00cc96",
           "#ab63fa",
           "#FFA15A",
           "#19d3f3",
           "#FF6692",
           "#B6E880",
           "#FF97FF",
           "#FECB52"
          ],
          "font": {
           "color": "#2a3f5f"
          },
          "geo": {
           "bgcolor": "white",
           "lakecolor": "white",
           "landcolor": "white",
           "showlakes": true,
           "showland": true,
           "subunitcolor": "#C8D4E3"
          },
          "hoverlabel": {
           "align": "left"
          },
          "hovermode": "closest",
          "mapbox": {
           "style": "light"
          },
          "paper_bgcolor": "white",
          "plot_bgcolor": "white",
          "polar": {
           "angularaxis": {
            "gridcolor": "#EBF0F8",
            "linecolor": "#EBF0F8",
            "ticks": ""
           },
           "bgcolor": "white",
           "radialaxis": {
            "gridcolor": "#EBF0F8",
            "linecolor": "#EBF0F8",
            "ticks": ""
           }
          },
          "scene": {
           "xaxis": {
            "backgroundcolor": "white",
            "gridcolor": "#DFE8F3",
            "gridwidth": 2,
            "linecolor": "#EBF0F8",
            "showbackground": true,
            "ticks": "",
            "zerolinecolor": "#EBF0F8"
           },
           "yaxis": {
            "backgroundcolor": "white",
            "gridcolor": "#DFE8F3",
            "gridwidth": 2,
            "linecolor": "#EBF0F8",
            "showbackground": true,
            "ticks": "",
            "zerolinecolor": "#EBF0F8"
           },
           "zaxis": {
            "backgroundcolor": "white",
            "gridcolor": "#DFE8F3",
            "gridwidth": 2,
            "linecolor": "#EBF0F8",
            "showbackground": true,
            "ticks": "",
            "zerolinecolor": "#EBF0F8"
           }
          },
          "shapedefaults": {
           "line": {
            "color": "#2a3f5f"
           }
          },
          "ternary": {
           "aaxis": {
            "gridcolor": "#DFE8F3",
            "linecolor": "#A2B1C6",
            "ticks": ""
           },
           "baxis": {
            "gridcolor": "#DFE8F3",
            "linecolor": "#A2B1C6",
            "ticks": ""
           },
           "bgcolor": "white",
           "caxis": {
            "gridcolor": "#DFE8F3",
            "linecolor": "#A2B1C6",
            "ticks": ""
           }
          },
          "title": {
           "x": 0.05
          },
          "xaxis": {
           "automargin": true,
           "gridcolor": "#EBF0F8",
           "linecolor": "#EBF0F8",
           "ticks": "",
           "title": {
            "standoff": 15
           },
           "zerolinecolor": "#EBF0F8",
           "zerolinewidth": 2
          },
          "yaxis": {
           "automargin": true,
           "gridcolor": "#EBF0F8",
           "linecolor": "#EBF0F8",
           "ticks": "",
           "title": {
            "standoff": 15
           },
           "zerolinecolor": "#EBF0F8",
           "zerolinewidth": 2
          }
         }
        },
        "title": {
         "text": "Time-series of Temperature Change and CO₂ Concentrations"
        },
        "xaxis": {
         "title": {
          "text": "Year"
         }
        },
        "yaxis": {
         "title": {
          "text": "Values"
         }
        }
       }
      }
     },
     "metadata": {},
     "output_type": "display_data"
    },
    {
     "name": "stdout",
     "output_type": "stream",
     "text": [
      "Note: you may need to restart the kernel to use updated packages.\n"
     ]
    }
   ],
   "source": [
    "import plotly.graph_objects as go\n",
    "import plotly.express as px\n",
    "\n",
    "# extracting time-series data for plotting\n",
    "# temperature: averaging across countries for each year\n",
    "temperature_years = temperature_data.filter(regex='^F').mean(axis=0)\n",
    "temperature_years.index = temperature_years.index.str.replace('F', '').astype(int)\n",
    "\n",
    "# CO2: parsing year and averaging monthly data\n",
    "co2_data['Year'] = co2_data['Date'].str[:4].astype(int)\n",
    "co2_yearly = co2_data.groupby('Year')['Value'].mean()\n",
    "\n",
    "# time-series plot for temperature and CO2 levels\n",
    "fig = go.Figure()\n",
    "fig.add_trace(go.Scatter(\n",
    "    x=temperature_years.index, y=temperature_years.values,\n",
    "    mode='lines+markers', name=\"Temperature Change (°C)\"\n",
    "))\n",
    "fig.add_trace(go.Scatter(\n",
    "    x=co2_yearly.index, y=co2_yearly.values,\n",
    "    mode='lines+markers', name=\"CO₂ Concentration (ppm)\", line=dict(dash='dash')\n",
    "))\n",
    "fig.update_layout(\n",
    "    title=\"Time-series of Temperature Change and CO₂ Concentrations\",\n",
    "    xaxis_title=\"Year\",\n",
    "    yaxis_title=\"Values\",\n",
    "    template=\"plotly_white\",\n",
    "    legend_title=\"Metrics\"\n",
    ")\n",
    "fig.show()\n",
    "\n",
    "# Ensure kaleido is installed for image export\n",
    "%pip install --quiet kaleido\n",
    "\n",
    "fig.write_image('../outputs/Time-series of Temperature Change and CO₂ Concentrations.jpeg')"
   ]
  },
  {
   "cell_type": "markdown",
   "id": "7073b134",
   "metadata": {},
   "source": [
    "The time-series graph shows a consistent increase in CO<sub>2</sub> concentrations (measured in ppm) over the years, which indicates the accumulation of greenhouse gasses in the atmosphere. Simultaneously, a slight upward trend in global tempreature change suggests that rising CO<sub>2</sub> levels are associated with global warming. The temporal alignment supports the hypothesis of CO2's significant contribution to tempreature increase."
   ]
  },
  {
   "cell_type": "code",
   "execution_count": 6,
   "id": "69456b4f",
   "metadata": {},
   "outputs": [
    {
     "data": {
      "application/vnd.plotly.v1+json": {
       "config": {
        "plotlyServerURL": "https://plot.ly"
       },
       "data": [
        {
         "coloraxis": "coloraxis",
         "hovertemplate": "x: %{x}<br>y: %{y}<br>color: %{z}<extra></extra>",
         "name": "0",
         "texttemplate": "%{z:.2f}",
         "type": "heatmap",
         "x": [
          "Tempreature Change",
          "CO₂ Concentration"
         ],
         "xaxis": "x",
         "y": [
          "Tempreature Change",
          "CO₂ Concentration"
         ],
         "yaxis": "y",
         "z": {
          "bdata": "AAAAAAAA8D+8AhxH3pLuP7wCHEfeku4/AAAAAAAA8D8=",
          "dtype": "f8",
          "shape": "2, 2"
         }
        }
       ],
       "layout": {
        "coloraxis": {
         "colorscale": [
          [
           0,
           "rgb(103,0,31)"
          ],
          [
           0.1,
           "rgb(178,24,43)"
          ],
          [
           0.2,
           "rgb(214,96,77)"
          ],
          [
           0.3,
           "rgb(244,165,130)"
          ],
          [
           0.4,
           "rgb(253,219,199)"
          ],
          [
           0.5,
           "rgb(247,247,247)"
          ],
          [
           0.6,
           "rgb(209,229,240)"
          ],
          [
           0.7,
           "rgb(146,197,222)"
          ],
          [
           0.8,
           "rgb(67,147,195)"
          ],
          [
           0.9,
           "rgb(33,102,172)"
          ],
          [
           1,
           "rgb(5,48,97)"
          ]
         ]
        },
        "template": {
         "data": {
          "bar": [
           {
            "error_x": {
             "color": "#2a3f5f"
            },
            "error_y": {
             "color": "#2a3f5f"
            },
            "marker": {
             "line": {
              "color": "#E5ECF6",
              "width": 0.5
             },
             "pattern": {
              "fillmode": "overlay",
              "size": 10,
              "solidity": 0.2
             }
            },
            "type": "bar"
           }
          ],
          "barpolar": [
           {
            "marker": {
             "line": {
              "color": "#E5ECF6",
              "width": 0.5
             },
             "pattern": {
              "fillmode": "overlay",
              "size": 10,
              "solidity": 0.2
             }
            },
            "type": "barpolar"
           }
          ],
          "carpet": [
           {
            "aaxis": {
             "endlinecolor": "#2a3f5f",
             "gridcolor": "white",
             "linecolor": "white",
             "minorgridcolor": "white",
             "startlinecolor": "#2a3f5f"
            },
            "baxis": {
             "endlinecolor": "#2a3f5f",
             "gridcolor": "white",
             "linecolor": "white",
             "minorgridcolor": "white",
             "startlinecolor": "#2a3f5f"
            },
            "type": "carpet"
           }
          ],
          "choropleth": [
           {
            "colorbar": {
             "outlinewidth": 0,
             "ticks": ""
            },
            "type": "choropleth"
           }
          ],
          "contour": [
           {
            "colorbar": {
             "outlinewidth": 0,
             "ticks": ""
            },
            "colorscale": [
             [
              0,
              "#0d0887"
             ],
             [
              0.1111111111111111,
              "#46039f"
             ],
             [
              0.2222222222222222,
              "#7201a8"
             ],
             [
              0.3333333333333333,
              "#9c179e"
             ],
             [
              0.4444444444444444,
              "#bd3786"
             ],
             [
              0.5555555555555556,
              "#d8576b"
             ],
             [
              0.6666666666666666,
              "#ed7953"
             ],
             [
              0.7777777777777778,
              "#fb9f3a"
             ],
             [
              0.8888888888888888,
              "#fdca26"
             ],
             [
              1,
              "#f0f921"
             ]
            ],
            "type": "contour"
           }
          ],
          "contourcarpet": [
           {
            "colorbar": {
             "outlinewidth": 0,
             "ticks": ""
            },
            "type": "contourcarpet"
           }
          ],
          "heatmap": [
           {
            "colorbar": {
             "outlinewidth": 0,
             "ticks": ""
            },
            "colorscale": [
             [
              0,
              "#0d0887"
             ],
             [
              0.1111111111111111,
              "#46039f"
             ],
             [
              0.2222222222222222,
              "#7201a8"
             ],
             [
              0.3333333333333333,
              "#9c179e"
             ],
             [
              0.4444444444444444,
              "#bd3786"
             ],
             [
              0.5555555555555556,
              "#d8576b"
             ],
             [
              0.6666666666666666,
              "#ed7953"
             ],
             [
              0.7777777777777778,
              "#fb9f3a"
             ],
             [
              0.8888888888888888,
              "#fdca26"
             ],
             [
              1,
              "#f0f921"
             ]
            ],
            "type": "heatmap"
           }
          ],
          "histogram": [
           {
            "marker": {
             "pattern": {
              "fillmode": "overlay",
              "size": 10,
              "solidity": 0.2
             }
            },
            "type": "histogram"
           }
          ],
          "histogram2d": [
           {
            "colorbar": {
             "outlinewidth": 0,
             "ticks": ""
            },
            "colorscale": [
             [
              0,
              "#0d0887"
             ],
             [
              0.1111111111111111,
              "#46039f"
             ],
             [
              0.2222222222222222,
              "#7201a8"
             ],
             [
              0.3333333333333333,
              "#9c179e"
             ],
             [
              0.4444444444444444,
              "#bd3786"
             ],
             [
              0.5555555555555556,
              "#d8576b"
             ],
             [
              0.6666666666666666,
              "#ed7953"
             ],
             [
              0.7777777777777778,
              "#fb9f3a"
             ],
             [
              0.8888888888888888,
              "#fdca26"
             ],
             [
              1,
              "#f0f921"
             ]
            ],
            "type": "histogram2d"
           }
          ],
          "histogram2dcontour": [
           {
            "colorbar": {
             "outlinewidth": 0,
             "ticks": ""
            },
            "colorscale": [
             [
              0,
              "#0d0887"
             ],
             [
              0.1111111111111111,
              "#46039f"
             ],
             [
              0.2222222222222222,
              "#7201a8"
             ],
             [
              0.3333333333333333,
              "#9c179e"
             ],
             [
              0.4444444444444444,
              "#bd3786"
             ],
             [
              0.5555555555555556,
              "#d8576b"
             ],
             [
              0.6666666666666666,
              "#ed7953"
             ],
             [
              0.7777777777777778,
              "#fb9f3a"
             ],
             [
              0.8888888888888888,
              "#fdca26"
             ],
             [
              1,
              "#f0f921"
             ]
            ],
            "type": "histogram2dcontour"
           }
          ],
          "mesh3d": [
           {
            "colorbar": {
             "outlinewidth": 0,
             "ticks": ""
            },
            "type": "mesh3d"
           }
          ],
          "parcoords": [
           {
            "line": {
             "colorbar": {
              "outlinewidth": 0,
              "ticks": ""
             }
            },
            "type": "parcoords"
           }
          ],
          "pie": [
           {
            "automargin": true,
            "type": "pie"
           }
          ],
          "scatter": [
           {
            "fillpattern": {
             "fillmode": "overlay",
             "size": 10,
             "solidity": 0.2
            },
            "type": "scatter"
           }
          ],
          "scatter3d": [
           {
            "line": {
             "colorbar": {
              "outlinewidth": 0,
              "ticks": ""
             }
            },
            "marker": {
             "colorbar": {
              "outlinewidth": 0,
              "ticks": ""
             }
            },
            "type": "scatter3d"
           }
          ],
          "scattercarpet": [
           {
            "marker": {
             "colorbar": {
              "outlinewidth": 0,
              "ticks": ""
             }
            },
            "type": "scattercarpet"
           }
          ],
          "scattergeo": [
           {
            "marker": {
             "colorbar": {
              "outlinewidth": 0,
              "ticks": ""
             }
            },
            "type": "scattergeo"
           }
          ],
          "scattergl": [
           {
            "marker": {
             "colorbar": {
              "outlinewidth": 0,
              "ticks": ""
             }
            },
            "type": "scattergl"
           }
          ],
          "scattermap": [
           {
            "marker": {
             "colorbar": {
              "outlinewidth": 0,
              "ticks": ""
             }
            },
            "type": "scattermap"
           }
          ],
          "scattermapbox": [
           {
            "marker": {
             "colorbar": {
              "outlinewidth": 0,
              "ticks": ""
             }
            },
            "type": "scattermapbox"
           }
          ],
          "scatterpolar": [
           {
            "marker": {
             "colorbar": {
              "outlinewidth": 0,
              "ticks": ""
             }
            },
            "type": "scatterpolar"
           }
          ],
          "scatterpolargl": [
           {
            "marker": {
             "colorbar": {
              "outlinewidth": 0,
              "ticks": ""
             }
            },
            "type": "scatterpolargl"
           }
          ],
          "scatterternary": [
           {
            "marker": {
             "colorbar": {
              "outlinewidth": 0,
              "ticks": ""
             }
            },
            "type": "scatterternary"
           }
          ],
          "surface": [
           {
            "colorbar": {
             "outlinewidth": 0,
             "ticks": ""
            },
            "colorscale": [
             [
              0,
              "#0d0887"
             ],
             [
              0.1111111111111111,
              "#46039f"
             ],
             [
              0.2222222222222222,
              "#7201a8"
             ],
             [
              0.3333333333333333,
              "#9c179e"
             ],
             [
              0.4444444444444444,
              "#bd3786"
             ],
             [
              0.5555555555555556,
              "#d8576b"
             ],
             [
              0.6666666666666666,
              "#ed7953"
             ],
             [
              0.7777777777777778,
              "#fb9f3a"
             ],
             [
              0.8888888888888888,
              "#fdca26"
             ],
             [
              1,
              "#f0f921"
             ]
            ],
            "type": "surface"
           }
          ],
          "table": [
           {
            "cells": {
             "fill": {
              "color": "#EBF0F8"
             },
             "line": {
              "color": "white"
             }
            },
            "header": {
             "fill": {
              "color": "#C8D4E3"
             },
             "line": {
              "color": "white"
             }
            },
            "type": "table"
           }
          ]
         },
         "layout": {
          "annotationdefaults": {
           "arrowcolor": "#2a3f5f",
           "arrowhead": 0,
           "arrowwidth": 1
          },
          "autotypenumbers": "strict",
          "coloraxis": {
           "colorbar": {
            "outlinewidth": 0,
            "ticks": ""
           }
          },
          "colorscale": {
           "diverging": [
            [
             0,
             "#8e0152"
            ],
            [
             0.1,
             "#c51b7d"
            ],
            [
             0.2,
             "#de77ae"
            ],
            [
             0.3,
             "#f1b6da"
            ],
            [
             0.4,
             "#fde0ef"
            ],
            [
             0.5,
             "#f7f7f7"
            ],
            [
             0.6,
             "#e6f5d0"
            ],
            [
             0.7,
             "#b8e186"
            ],
            [
             0.8,
             "#7fbc41"
            ],
            [
             0.9,
             "#4d9221"
            ],
            [
             1,
             "#276419"
            ]
           ],
           "sequential": [
            [
             0,
             "#0d0887"
            ],
            [
             0.1111111111111111,
             "#46039f"
            ],
            [
             0.2222222222222222,
             "#7201a8"
            ],
            [
             0.3333333333333333,
             "#9c179e"
            ],
            [
             0.4444444444444444,
             "#bd3786"
            ],
            [
             0.5555555555555556,
             "#d8576b"
            ],
            [
             0.6666666666666666,
             "#ed7953"
            ],
            [
             0.7777777777777778,
             "#fb9f3a"
            ],
            [
             0.8888888888888888,
             "#fdca26"
            ],
            [
             1,
             "#f0f921"
            ]
           ],
           "sequentialminus": [
            [
             0,
             "#0d0887"
            ],
            [
             0.1111111111111111,
             "#46039f"
            ],
            [
             0.2222222222222222,
             "#7201a8"
            ],
            [
             0.3333333333333333,
             "#9c179e"
            ],
            [
             0.4444444444444444,
             "#bd3786"
            ],
            [
             0.5555555555555556,
             "#d8576b"
            ],
            [
             0.6666666666666666,
             "#ed7953"
            ],
            [
             0.7777777777777778,
             "#fb9f3a"
            ],
            [
             0.8888888888888888,
             "#fdca26"
            ],
            [
             1,
             "#f0f921"
            ]
           ]
          },
          "colorway": [
           "#636efa",
           "#EF553B",
           "#00cc96",
           "#ab63fa",
           "#FFA15A",
           "#19d3f3",
           "#FF6692",
           "#B6E880",
           "#FF97FF",
           "#FECB52"
          ],
          "font": {
           "color": "#2a3f5f"
          },
          "geo": {
           "bgcolor": "white",
           "lakecolor": "white",
           "landcolor": "#E5ECF6",
           "showlakes": true,
           "showland": true,
           "subunitcolor": "white"
          },
          "hoverlabel": {
           "align": "left"
          },
          "hovermode": "closest",
          "mapbox": {
           "style": "light"
          },
          "paper_bgcolor": "white",
          "plot_bgcolor": "#E5ECF6",
          "polar": {
           "angularaxis": {
            "gridcolor": "white",
            "linecolor": "white",
            "ticks": ""
           },
           "bgcolor": "#E5ECF6",
           "radialaxis": {
            "gridcolor": "white",
            "linecolor": "white",
            "ticks": ""
           }
          },
          "scene": {
           "xaxis": {
            "backgroundcolor": "#E5ECF6",
            "gridcolor": "white",
            "gridwidth": 2,
            "linecolor": "white",
            "showbackground": true,
            "ticks": "",
            "zerolinecolor": "white"
           },
           "yaxis": {
            "backgroundcolor": "#E5ECF6",
            "gridcolor": "white",
            "gridwidth": 2,
            "linecolor": "white",
            "showbackground": true,
            "ticks": "",
            "zerolinecolor": "white"
           },
           "zaxis": {
            "backgroundcolor": "#E5ECF6",
            "gridcolor": "white",
            "gridwidth": 2,
            "linecolor": "white",
            "showbackground": true,
            "ticks": "",
            "zerolinecolor": "white"
           }
          },
          "shapedefaults": {
           "line": {
            "color": "#2a3f5f"
           }
          },
          "ternary": {
           "aaxis": {
            "gridcolor": "white",
            "linecolor": "white",
            "ticks": ""
           },
           "baxis": {
            "gridcolor": "white",
            "linecolor": "white",
            "ticks": ""
           },
           "bgcolor": "#E5ECF6",
           "caxis": {
            "gridcolor": "white",
            "linecolor": "white",
            "ticks": ""
           }
          },
          "title": {
           "x": 0.05
          },
          "xaxis": {
           "automargin": true,
           "gridcolor": "white",
           "linecolor": "white",
           "ticks": "",
           "title": {
            "standoff": 15
           },
           "zerolinecolor": "white",
           "zerolinewidth": 2
          },
          "yaxis": {
           "automargin": true,
           "gridcolor": "white",
           "linecolor": "white",
           "ticks": "",
           "title": {
            "standoff": 15
           },
           "zerolinecolor": "white",
           "zerolinewidth": 2
          }
         }
        },
        "title": {
         "text": "Correlation Heatmap"
        },
        "xaxis": {
         "anchor": "y",
         "constrain": "domain",
         "domain": [
          0,
          1
         ],
         "scaleanchor": "y"
        },
        "yaxis": {
         "anchor": "x",
         "autorange": "reversed",
         "constrain": "domain",
         "domain": [
          0,
          1
         ]
        }
       }
      }
     },
     "metadata": {},
     "output_type": "display_data"
    }
   ],
   "source": [
    "# correlation heatmap\n",
    "merged_data = pd.DataFrame({\n",
    "    \"Tempreature Change\": temperature_years,\n",
    "    \"CO₂ Concentration\": co2_yearly\n",
    "}).dropna()\n",
    "\n",
    "heatmap_fig = px.imshow(\n",
    "    merged_data.corr(),\n",
    "    text_auto = \".2f\",\n",
    "    color_continuous_scale = \"RdBu\",\n",
    "    title = \"Correlation Heatmap\"\n",
    ")\n",
    "heatmap_fig.show()\n",
    "fig.write_image('../outputs/Correlation Heatmap.jpeg')"
   ]
  },
  {
   "cell_type": "markdown",
   "id": "a9e8f98f",
   "metadata": {},
   "source": [
    "The heatmap reveals a strong positive correaltion (0.96) between CO₂ concetrations and tempreature changes. This statistical relationship reinforces the observation that higher CO₂ levels are closely linked with increasing global tempreatures, which highlights the importance of addressing carbon to mitigate climate change."
   ]
  },
  {
   "cell_type": "code",
   "execution_count": 7,
   "id": "0136711e",
   "metadata": {},
   "outputs": [
    {
     "data": {
      "application/vnd.plotly.v1+json": {
       "config": {
        "plotlyServerURL": "https://plot.ly"
       },
       "data": [
        {
         "hovertemplate": "CO₂ Concentration (ppm)=%{x}<br>Temperature Change (°C)=%{y}<extra></extra>",
         "legendgroup": "",
         "marker": {
          "color": "#636efa",
          "opacity": 0.7,
          "size": 10,
          "symbol": "circle"
         },
         "mode": "markers",
         "name": "",
         "orientation": "v",
         "showlegend": false,
         "type": "scatter",
         "x": {
          "bdata": "Om2g0wbeY0CPwvUoXOtjQGAs+cWS8mNAY8kvlvz8Y0CrqqqqqgJkQCW/WPKLHGRA7+7u7u4mZEDotIFOGzVkQPYoXI/CUWRAhetRuB5gZEDQaQOdNmhkQBhLfrHkfGRA5RdLfrGlZEDD9Shcj6VkQNMGOm2gtmRA9ihcj8LEZEB+seQXS+ZkQFyPwvUo/mRAv1jyiyUUZUDyiyW/WDVlQFVVVVVVSGVAdNpApw1eZUB/seQXS3plQN3d3d3dlWVA7FG4HoWsZUDD9Shcj79lQKRwPQrX3GVA7+7u7u4FZkBcj8L1KBpmQLWBThvoLGZAtYFOG+hAZkCIiIiIiExmQD0K16NwVmZAXI/C9Sh3ZkB4d3d3d5hmQJNfLPnFs2ZA16NwPQrDZkAUrkfhevpmQHTaQKcNEGdAZ2ZmZmYgZ0ARERERETxnQD0K16NwYGdAN9BpA52KZ0A9CtejcKJnQKDTBjptyWdAVVVVVVXqZ0Cx5BdLfghoQEGnDXTaJGhA9Shcj8JBaEAwlvxiyWtoQM3MzMzMhGhAtYFOG+ipaEBI4XoUrtZoQJDC9Shc9WhAO22g0wYZaUCX/GLJL1RpQASdNtBpdWlAXI/C9SiTaUDd3d3d3cVpQFVVVVVV7WlA6LSBThsPakD9YskvljBqQA==",
          "dtype": "f8"
         },
         "xaxis": "x",
         "y": {
          "bdata": "HEV6Tu3exD+jkPWqZ5mLv+b1d4UTwHi/JXr/w1rvsb9XmftGkZ7Pv+ttWatjArs/cvEuIoRfvL95NrhMb3zJv6whYmhyN8Q/Ba4kjzattz8yRdmzaarJvyPb+X5qvLW/DXJUMu1bzT+R7Xw/Nd7Ev/KFilf9Dpi/MrrZayd6z79HxuU8dznFP5qDF1Y/07E/ldRurB/tzT9xUGa+IafPP0L/1k/O3cY/i7MPn2GXxj+NE0cV1w3WP+tkPJKMgrQ/vsbVUuE/sj82pjZTJFnDP8Wfz2vd69k/NZplPaBd3z+/GKw7EGXQPwM76hCvxOE/DrVnfAOQ1z+76t4hUUXOP5wH2Opqpcs/O8gxZCSB4z8MPQ7utyLkP7k/mYPh3tE/lniMjmho4T+USIvffxTvPzaIhBcgyec/NriVVepu5T+PlLnWdTTrP5iZmZmZme0/1UgdeuwD6z+57NR/EeToPx63Hd+yS+s/w9IWrOoM7D/3h5KyW1zwPzgOkHB/3uk/jo8dY1sj7T9rH/rqrJXxPzpIz0HXSOo/mistTgPf7D8N1iYAYsztP2WdKw9I1vE/BSoKpv1Q9D8uZxVORwj3Px2CDnYYfvQ/fOf1GXTV9D/1g2Qqxxb3P8gSWoUl1fg/uwzU2hl/9T/DyHAuIh32Pw==",
          "dtype": "f8"
         },
         "yaxis": "y"
        }
       ],
       "layout": {
        "legend": {
         "tracegroupgap": 0
        },
        "template": {
         "data": {
          "bar": [
           {
            "error_x": {
             "color": "#2a3f5f"
            },
            "error_y": {
             "color": "#2a3f5f"
            },
            "marker": {
             "line": {
              "color": "white",
              "width": 0.5
             },
             "pattern": {
              "fillmode": "overlay",
              "size": 10,
              "solidity": 0.2
             }
            },
            "type": "bar"
           }
          ],
          "barpolar": [
           {
            "marker": {
             "line": {
              "color": "white",
              "width": 0.5
             },
             "pattern": {
              "fillmode": "overlay",
              "size": 10,
              "solidity": 0.2
             }
            },
            "type": "barpolar"
           }
          ],
          "carpet": [
           {
            "aaxis": {
             "endlinecolor": "#2a3f5f",
             "gridcolor": "#C8D4E3",
             "linecolor": "#C8D4E3",
             "minorgridcolor": "#C8D4E3",
             "startlinecolor": "#2a3f5f"
            },
            "baxis": {
             "endlinecolor": "#2a3f5f",
             "gridcolor": "#C8D4E3",
             "linecolor": "#C8D4E3",
             "minorgridcolor": "#C8D4E3",
             "startlinecolor": "#2a3f5f"
            },
            "type": "carpet"
           }
          ],
          "choropleth": [
           {
            "colorbar": {
             "outlinewidth": 0,
             "ticks": ""
            },
            "type": "choropleth"
           }
          ],
          "contour": [
           {
            "colorbar": {
             "outlinewidth": 0,
             "ticks": ""
            },
            "colorscale": [
             [
              0,
              "#0d0887"
             ],
             [
              0.1111111111111111,
              "#46039f"
             ],
             [
              0.2222222222222222,
              "#7201a8"
             ],
             [
              0.3333333333333333,
              "#9c179e"
             ],
             [
              0.4444444444444444,
              "#bd3786"
             ],
             [
              0.5555555555555556,
              "#d8576b"
             ],
             [
              0.6666666666666666,
              "#ed7953"
             ],
             [
              0.7777777777777778,
              "#fb9f3a"
             ],
             [
              0.8888888888888888,
              "#fdca26"
             ],
             [
              1,
              "#f0f921"
             ]
            ],
            "type": "contour"
           }
          ],
          "contourcarpet": [
           {
            "colorbar": {
             "outlinewidth": 0,
             "ticks": ""
            },
            "type": "contourcarpet"
           }
          ],
          "heatmap": [
           {
            "colorbar": {
             "outlinewidth": 0,
             "ticks": ""
            },
            "colorscale": [
             [
              0,
              "#0d0887"
             ],
             [
              0.1111111111111111,
              "#46039f"
             ],
             [
              0.2222222222222222,
              "#7201a8"
             ],
             [
              0.3333333333333333,
              "#9c179e"
             ],
             [
              0.4444444444444444,
              "#bd3786"
             ],
             [
              0.5555555555555556,
              "#d8576b"
             ],
             [
              0.6666666666666666,
              "#ed7953"
             ],
             [
              0.7777777777777778,
              "#fb9f3a"
             ],
             [
              0.8888888888888888,
              "#fdca26"
             ],
             [
              1,
              "#f0f921"
             ]
            ],
            "type": "heatmap"
           }
          ],
          "histogram": [
           {
            "marker": {
             "pattern": {
              "fillmode": "overlay",
              "size": 10,
              "solidity": 0.2
             }
            },
            "type": "histogram"
           }
          ],
          "histogram2d": [
           {
            "colorbar": {
             "outlinewidth": 0,
             "ticks": ""
            },
            "colorscale": [
             [
              0,
              "#0d0887"
             ],
             [
              0.1111111111111111,
              "#46039f"
             ],
             [
              0.2222222222222222,
              "#7201a8"
             ],
             [
              0.3333333333333333,
              "#9c179e"
             ],
             [
              0.4444444444444444,
              "#bd3786"
             ],
             [
              0.5555555555555556,
              "#d8576b"
             ],
             [
              0.6666666666666666,
              "#ed7953"
             ],
             [
              0.7777777777777778,
              "#fb9f3a"
             ],
             [
              0.8888888888888888,
              "#fdca26"
             ],
             [
              1,
              "#f0f921"
             ]
            ],
            "type": "histogram2d"
           }
          ],
          "histogram2dcontour": [
           {
            "colorbar": {
             "outlinewidth": 0,
             "ticks": ""
            },
            "colorscale": [
             [
              0,
              "#0d0887"
             ],
             [
              0.1111111111111111,
              "#46039f"
             ],
             [
              0.2222222222222222,
              "#7201a8"
             ],
             [
              0.3333333333333333,
              "#9c179e"
             ],
             [
              0.4444444444444444,
              "#bd3786"
             ],
             [
              0.5555555555555556,
              "#d8576b"
             ],
             [
              0.6666666666666666,
              "#ed7953"
             ],
             [
              0.7777777777777778,
              "#fb9f3a"
             ],
             [
              0.8888888888888888,
              "#fdca26"
             ],
             [
              1,
              "#f0f921"
             ]
            ],
            "type": "histogram2dcontour"
           }
          ],
          "mesh3d": [
           {
            "colorbar": {
             "outlinewidth": 0,
             "ticks": ""
            },
            "type": "mesh3d"
           }
          ],
          "parcoords": [
           {
            "line": {
             "colorbar": {
              "outlinewidth": 0,
              "ticks": ""
             }
            },
            "type": "parcoords"
           }
          ],
          "pie": [
           {
            "automargin": true,
            "type": "pie"
           }
          ],
          "scatter": [
           {
            "fillpattern": {
             "fillmode": "overlay",
             "size": 10,
             "solidity": 0.2
            },
            "type": "scatter"
           }
          ],
          "scatter3d": [
           {
            "line": {
             "colorbar": {
              "outlinewidth": 0,
              "ticks": ""
             }
            },
            "marker": {
             "colorbar": {
              "outlinewidth": 0,
              "ticks": ""
             }
            },
            "type": "scatter3d"
           }
          ],
          "scattercarpet": [
           {
            "marker": {
             "colorbar": {
              "outlinewidth": 0,
              "ticks": ""
             }
            },
            "type": "scattercarpet"
           }
          ],
          "scattergeo": [
           {
            "marker": {
             "colorbar": {
              "outlinewidth": 0,
              "ticks": ""
             }
            },
            "type": "scattergeo"
           }
          ],
          "scattergl": [
           {
            "marker": {
             "colorbar": {
              "outlinewidth": 0,
              "ticks": ""
             }
            },
            "type": "scattergl"
           }
          ],
          "scattermap": [
           {
            "marker": {
             "colorbar": {
              "outlinewidth": 0,
              "ticks": ""
             }
            },
            "type": "scattermap"
           }
          ],
          "scattermapbox": [
           {
            "marker": {
             "colorbar": {
              "outlinewidth": 0,
              "ticks": ""
             }
            },
            "type": "scattermapbox"
           }
          ],
          "scatterpolar": [
           {
            "marker": {
             "colorbar": {
              "outlinewidth": 0,
              "ticks": ""
             }
            },
            "type": "scatterpolar"
           }
          ],
          "scatterpolargl": [
           {
            "marker": {
             "colorbar": {
              "outlinewidth": 0,
              "ticks": ""
             }
            },
            "type": "scatterpolargl"
           }
          ],
          "scatterternary": [
           {
            "marker": {
             "colorbar": {
              "outlinewidth": 0,
              "ticks": ""
             }
            },
            "type": "scatterternary"
           }
          ],
          "surface": [
           {
            "colorbar": {
             "outlinewidth": 0,
             "ticks": ""
            },
            "colorscale": [
             [
              0,
              "#0d0887"
             ],
             [
              0.1111111111111111,
              "#46039f"
             ],
             [
              0.2222222222222222,
              "#7201a8"
             ],
             [
              0.3333333333333333,
              "#9c179e"
             ],
             [
              0.4444444444444444,
              "#bd3786"
             ],
             [
              0.5555555555555556,
              "#d8576b"
             ],
             [
              0.6666666666666666,
              "#ed7953"
             ],
             [
              0.7777777777777778,
              "#fb9f3a"
             ],
             [
              0.8888888888888888,
              "#fdca26"
             ],
             [
              1,
              "#f0f921"
             ]
            ],
            "type": "surface"
           }
          ],
          "table": [
           {
            "cells": {
             "fill": {
              "color": "#EBF0F8"
             },
             "line": {
              "color": "white"
             }
            },
            "header": {
             "fill": {
              "color": "#C8D4E3"
             },
             "line": {
              "color": "white"
             }
            },
            "type": "table"
           }
          ]
         },
         "layout": {
          "annotationdefaults": {
           "arrowcolor": "#2a3f5f",
           "arrowhead": 0,
           "arrowwidth": 1
          },
          "autotypenumbers": "strict",
          "coloraxis": {
           "colorbar": {
            "outlinewidth": 0,
            "ticks": ""
           }
          },
          "colorscale": {
           "diverging": [
            [
             0,
             "#8e0152"
            ],
            [
             0.1,
             "#c51b7d"
            ],
            [
             0.2,
             "#de77ae"
            ],
            [
             0.3,
             "#f1b6da"
            ],
            [
             0.4,
             "#fde0ef"
            ],
            [
             0.5,
             "#f7f7f7"
            ],
            [
             0.6,
             "#e6f5d0"
            ],
            [
             0.7,
             "#b8e186"
            ],
            [
             0.8,
             "#7fbc41"
            ],
            [
             0.9,
             "#4d9221"
            ],
            [
             1,
             "#276419"
            ]
           ],
           "sequential": [
            [
             0,
             "#0d0887"
            ],
            [
             0.1111111111111111,
             "#46039f"
            ],
            [
             0.2222222222222222,
             "#7201a8"
            ],
            [
             0.3333333333333333,
             "#9c179e"
            ],
            [
             0.4444444444444444,
             "#bd3786"
            ],
            [
             0.5555555555555556,
             "#d8576b"
            ],
            [
             0.6666666666666666,
             "#ed7953"
            ],
            [
             0.7777777777777778,
             "#fb9f3a"
            ],
            [
             0.8888888888888888,
             "#fdca26"
            ],
            [
             1,
             "#f0f921"
            ]
           ],
           "sequentialminus": [
            [
             0,
             "#0d0887"
            ],
            [
             0.1111111111111111,
             "#46039f"
            ],
            [
             0.2222222222222222,
             "#7201a8"
            ],
            [
             0.3333333333333333,
             "#9c179e"
            ],
            [
             0.4444444444444444,
             "#bd3786"
            ],
            [
             0.5555555555555556,
             "#d8576b"
            ],
            [
             0.6666666666666666,
             "#ed7953"
            ],
            [
             0.7777777777777778,
             "#fb9f3a"
            ],
            [
             0.8888888888888888,
             "#fdca26"
            ],
            [
             1,
             "#f0f921"
            ]
           ]
          },
          "colorway": [
           "#636efa",
           "#EF553B",
           "#00cc96",
           "#ab63fa",
           "#FFA15A",
           "#19d3f3",
           "#FF6692",
           "#B6E880",
           "#FF97FF",
           "#FECB52"
          ],
          "font": {
           "color": "#2a3f5f"
          },
          "geo": {
           "bgcolor": "white",
           "lakecolor": "white",
           "landcolor": "white",
           "showlakes": true,
           "showland": true,
           "subunitcolor": "#C8D4E3"
          },
          "hoverlabel": {
           "align": "left"
          },
          "hovermode": "closest",
          "mapbox": {
           "style": "light"
          },
          "paper_bgcolor": "white",
          "plot_bgcolor": "white",
          "polar": {
           "angularaxis": {
            "gridcolor": "#EBF0F8",
            "linecolor": "#EBF0F8",
            "ticks": ""
           },
           "bgcolor": "white",
           "radialaxis": {
            "gridcolor": "#EBF0F8",
            "linecolor": "#EBF0F8",
            "ticks": ""
           }
          },
          "scene": {
           "xaxis": {
            "backgroundcolor": "white",
            "gridcolor": "#DFE8F3",
            "gridwidth": 2,
            "linecolor": "#EBF0F8",
            "showbackground": true,
            "ticks": "",
            "zerolinecolor": "#EBF0F8"
           },
           "yaxis": {
            "backgroundcolor": "white",
            "gridcolor": "#DFE8F3",
            "gridwidth": 2,
            "linecolor": "#EBF0F8",
            "showbackground": true,
            "ticks": "",
            "zerolinecolor": "#EBF0F8"
           },
           "zaxis": {
            "backgroundcolor": "white",
            "gridcolor": "#DFE8F3",
            "gridwidth": 2,
            "linecolor": "#EBF0F8",
            "showbackground": true,
            "ticks": "",
            "zerolinecolor": "#EBF0F8"
           }
          },
          "shapedefaults": {
           "line": {
            "color": "#2a3f5f"
           }
          },
          "ternary": {
           "aaxis": {
            "gridcolor": "#DFE8F3",
            "linecolor": "#A2B1C6",
            "ticks": ""
           },
           "baxis": {
            "gridcolor": "#DFE8F3",
            "linecolor": "#A2B1C6",
            "ticks": ""
           },
           "bgcolor": "white",
           "caxis": {
            "gridcolor": "#DFE8F3",
            "linecolor": "#A2B1C6",
            "ticks": ""
           }
          },
          "title": {
           "x": 0.05
          },
          "xaxis": {
           "automargin": true,
           "gridcolor": "#EBF0F8",
           "linecolor": "#EBF0F8",
           "ticks": "",
           "title": {
            "standoff": 15
           },
           "zerolinecolor": "#EBF0F8",
           "zerolinewidth": 2
          },
          "yaxis": {
           "automargin": true,
           "gridcolor": "#EBF0F8",
           "linecolor": "#EBF0F8",
           "ticks": "",
           "title": {
            "standoff": 15
           },
           "zerolinecolor": "#EBF0F8",
           "zerolinewidth": 2
          }
         }
        },
        "title": {
         "text": "Temperature Change vs CO₂ Concentration"
        },
        "xaxis": {
         "anchor": "y",
         "domain": [
          0,
          1
         ],
         "title": {
          "text": "CO₂ Concentration (ppm)"
         }
        },
        "yaxis": {
         "anchor": "x",
         "domain": [
          0,
          1
         ],
         "title": {
          "text": "Temperature Change (°C)"
         }
        }
       }
      }
     },
     "metadata": {},
     "output_type": "display_data"
    }
   ],
   "source": [
    "# scatter plot: tempreature vs CO2 concentrations\n",
    "scatter_fig = px.scatter(\n",
    "    merged_data,\n",
    "    x=\"CO₂ Concentration\", y=\"Tempreature Change\",\n",
    "    labels={\"CO₂ Concentration\": \"CO₂ Concentration (ppm)\", \"Tempreature Change\": \"Temperature Change (°C)\"},\n",
    "    title=\"Temperature Change vs CO₂ Concentration\",\n",
    "    template=\"plotly_white\"\n",
    ")\n",
    "scatter_fig.update_traces(marker = dict(size = 10, opacity = 0.7))\n",
    "scatter_fig.show()\n",
    "fig.write_image('../outputs/Temperature Change vs CO₂ Concentration.jpeg')"
   ]
  },
  {
   "cell_type": "markdown",
   "id": "73a9d845",
   "metadata": {},
   "source": [
    "The Scatter plot shows a clear line trend, where higher CO₂ concetrations correspond to greater temperature changes. This visual evidence underscores the direct relationship between CO₂ emissions and global warming, which provides further support for policies targeting reductions in carbon emissions to combat climate impacts."
   ]
  },
  {
   "cell_type": "markdown",
   "id": "dae22ea8-e3f8-490e-834e-139c1144184c",
   "metadata": {},
   "source": [
    "# Trend and Seasonal Variations Analysis"
   ]
  },
  {
   "cell_type": "code",
   "execution_count": 8,
   "id": "344775b0-ba6f-4e37-8f88-881ea897df5f",
   "metadata": {},
   "outputs": [
    {
     "data": {
      "application/vnd.plotly.v1+json": {
       "config": {
        "plotlyServerURL": "https://plot.ly"
       },
       "data": [
        {
         "mode": "lines+markers",
         "name": "Temperature Change (°C)",
         "type": "scatter",
         "x": {
          "bdata": "qQeqB6sHrAetB64HrwewB7EHsgezB7QHtQe2B7cHuAe5B7oHuwe8B70Hvge/B8AHwQfCB8MHxAfFB8YHxwfIB8kHygfLB8wHzQfOB88H0AfRB9IH0wfUB9UH1gfXB9gH2QfaB9sH3AfdB94H3wfgB+EH4gfjB+QH5QfmBw==",
          "dtype": "i2"
         },
         "y": {
          "bdata": "HEV6Tu3exD+jkPWqZ5mLv+b1d4UTwHi/JXr/w1rvsb9XmftGkZ7Pv+ttWatjArs/cvEuIoRfvL95NrhMb3zJv6whYmhyN8Q/Ba4kjzattz8yRdmzaarJvyPb+X5qvLW/DXJUMu1bzT+R7Xw/Nd7Ev/KFilf9Dpi/MrrZayd6z79HxuU8dznFP5qDF1Y/07E/ldRurB/tzT9xUGa+IafPP0L/1k/O3cY/i7MPn2GXxj+NE0cV1w3WP+tkPJKMgrQ/vsbVUuE/sj82pjZTJFnDP8Wfz2vd69k/NZplPaBd3z+/GKw7EGXQPwM76hCvxOE/DrVnfAOQ1z+76t4hUUXOP5wH2Opqpcs/O8gxZCSB4z8MPQ7utyLkP7k/mYPh3tE/lniMjmho4T+USIvffxTvPzaIhBcgyec/NriVVepu5T+PlLnWdTTrP5iZmZmZme0/1UgdeuwD6z+57NR/EeToPx63Hd+yS+s/w9IWrOoM7D/3h5KyW1zwPzgOkHB/3uk/jo8dY1sj7T9rH/rqrJXxPzpIz0HXSOo/mistTgPf7D8N1iYAYsztP2WdKw9I1vE/BSoKpv1Q9D8uZxVORwj3Px2CDnYYfvQ/fOf1GXTV9D/1g2Qqxxb3P8gSWoUl1fg/uwzU2hl/9T/DyHAuIh32Pw==",
          "dtype": "f8"
         }
        },
        {
         "line": {
          "dash": "dash"
         },
         "mode": "lines",
         "name": "Temperature Trend (Slope: 0.03)",
         "type": "scatter",
         "x": {
          "bdata": "qQeqB6sHrAetB64HrwewB7EHsgezB7QHtQe2B7cHuAe5B7oHuwe8B70Hvge/B8AHwQfCB8MHxAfFB8YHxwfIB8kHygfLB8wHzQfOB88H0AfRB9IH0wfUB9UH1gfXB9gH2QfaB9sH3AfdB94H3wfgB+EH4gfjB+QH5QfmBw==",
          "dtype": "i2"
         },
         "y": {
          "bdata": "gGavKiw70r+AtuzoZo7QvwANVE5Dw82/AK7Oyrhpyr8ATklHLhDHvwDuw8OjtsO/AI8+QBldwL8AXnJ5HQe6vwCeZ3IIVLO/AMC51uZBqb8AgEiRebeXvwAAFFfUpmg/AHgNpy7hnT8APJxhwVasPwDe2Ld13rQ/AJzjvoqRuz8ALvfiTyLBPwCOfGbae8Q/AO0B6mTVxz8ATYdt7y7LPwCtDPF5iM4/AAZJOgLx0D8Atgt8x53SPwBmzr2MStQ/gBWR/1H31T+AxVNBF6TXP4B1FoPcUNk/ACXZxKH92j8A1ZsGZ6rcPwCFXkgsV94/QJoQxfgB4D9A8vFlW9jgP0BK0wa+ruE/AKK0pyCF4j8A+pVIg1vjPwBSd+nlMeQ/wKlYikgI5T/AATorq97lP8BZG8wNteY/gLH8bHCL5z+ACd4N02HoP4Bhv641OOk/QLmgT5gO6j9AEYLw+uTqP0BpY5Fdu+s/AMFEMsCR7D8AGSbTImjtPwBxB3SFPu4/wMjoFOgU7z/AIMq1SuvvP2C8VavWYPA/QGjG+wfM8D9AFDdMOTfxP0DAp5xqovE/IGwY7ZsN8j8gGIk9zXjyPyDE+Y3+4/I/AHBq3i9P8z8AHNsuYbrzP+DHS3+SJfQ/4HO8z8OQ9D/gHy0g9fv0Pw==",
          "dtype": "f8"
         }
        },
        {
         "mode": "lines+markers",
         "name": "CO₂ Concentration (ppm)",
         "type": "scatter",
         "x": {
          "bdata": "pgenB6gHqQeqB6sHrAetB64HrwewB7EHsgezB7QHtQe2B7cHuAe5B7oHuwe8B70Hvge/B8AHwQfCB8MHxAfFB8YHxwfIB8kHygfLB8wHzQfOB88H0AfRB9IH0wfUB9UH1gfXB9gH2QfaB9sH3AfdB94H3wfgB+EH4gfjB+QH5QfmB+cH6Ac=",
          "dtype": "i2"
         },
         "y": {
          "bdata": "wcqhRbazc0CzwCsLvI5lQKcNdNpA02NAOm2g0wbeY0CPwvUoXOtjQGAs+cWS8mNAY8kvlvz8Y0CrqqqqqgJkQCW/WPKLHGRA7+7u7u4mZEDotIFOGzVkQPYoXI/CUWRAhetRuB5gZEDQaQOdNmhkQBhLfrHkfGRA5RdLfrGlZEDD9Shcj6VkQNMGOm2gtmRA9ihcj8LEZEB+seQXS+ZkQFyPwvUo/mRAv1jyiyUUZUDyiyW/WDVlQFVVVVVVSGVAdNpApw1eZUB/seQXS3plQN3d3d3dlWVA7FG4HoWsZUDD9Shcj79lQKRwPQrX3GVA7+7u7u4FZkBcj8L1KBpmQLWBThvoLGZAtYFOG+hAZkCIiIiIiExmQD0K16NwVmZAXI/C9Sh3ZkB4d3d3d5hmQJNfLPnFs2ZA16NwPQrDZkAUrkfhevpmQHTaQKcNEGdAZ2ZmZmYgZ0ARERERETxnQD0K16NwYGdAN9BpA52KZ0A9CtejcKJnQKDTBjptyWdAVVVVVVXqZ0Cx5BdLfghoQEGnDXTaJGhA9Shcj8JBaEAwlvxiyWtoQM3MzMzMhGhAtYFOG+ipaEBI4XoUrtZoQJDC9Shc9WhAO22g0wYZaUCX/GLJL1RpQASdNtBpdWlAXI/C9SiTaUDd3d3d3cVpQFVVVVVV7WlA6LSBThsPakD9YskvljBqQJ020GkDW2pAw/UoXI/C5T8=",
          "dtype": "f8"
         }
        },
        {
         "line": {
          "dash": "dash"
         },
         "mode": "lines",
         "name": "CO₂ Trend (Slope: 0.32)",
         "type": "scatter",
         "x": {
          "bdata": "pgenB6gHqQeqB6sHrAetB64HrwewB7EHsgezB7QHtQe2B7cHuAe5B7oHuwe8B70Hvge/B8AHwQfCB8MHxAfFB8YHxwfIB8kHygfLB8wHzQfOB88H0AfRB9IH0wfUB9UH1gfXB9gH2QfaB9sH3AfdB94H3wfgB+EH4gfjB+QH5QfmB+cH6Ac=",
          "dtype": "i2"
         },
         "y": {
          "bdata": "+EWBLOkbZUDkPNoOIiZlQNAzM/FaMGVAvCqM05M6ZUCoIeW1zERlQJQYPpgFT2VAgA+Xej5ZZUBsBvBcd2NlQFj9SD+wbWVARPShIel3ZUAw6/oDIoJlQBziU+ZajGVABNmsyJOWZUDwzwWrzKBlQNzGXo0Fq2VAyL23bz61ZUC0tBBSd79lQKCraTSwyWVAjKLCFunTZUB4mRv5Id5lQGSQdNta6GVAUIfNvZPyZUA8fiagzPxlQCh1f4IFB2ZAFGzYZD4RZkAAYzFHdxtmQOxZiimwJWZA2FDjC+kvZkDERzzuITpmQLA+ldBaRGZAmDXuspNOZkCELEeVzFhmQHAjoHcFY2ZAXBr5WT5tZkBIEVI8d3dmQDQIqx6wgWZAIP8DAemLZkAM9lzjIZZmQPjstcVaoGZA5OMOqJOqZkDQ2meKzLRmQLzRwGwFv2ZAqMgZTz7JZkCUv3Ixd9NmQIC2yxOw3WZAbK0k9ujnZkBYpH3YIfJmQECb1rpa/GZALJIvnZMGZ0AYiYh/zBBnQASA4WEFG2dA8HY6RD4lZ0DcbZMmdy9nQMhk7AiwOWdAtFtF6+hDZ0CgUp7NIU5nQIxJ969aWGdAeEBQkpNiZ0BkN6l0zGxnQFAuAlcFd2dAPCVbOT6BZ0AoHLQbd4tnQBQTDf6vlWdAAApm4OifZ0DoAL/CIapnQNT3F6VatGdAwO5wh5O+Z0A=",
          "dtype": "f8"
         }
        }
       ],
       "layout": {
        "legend": {
         "title": {
          "text": "Metrics"
         }
        },
        "template": {
         "data": {
          "bar": [
           {
            "error_x": {
             "color": "#2a3f5f"
            },
            "error_y": {
             "color": "#2a3f5f"
            },
            "marker": {
             "line": {
              "color": "white",
              "width": 0.5
             },
             "pattern": {
              "fillmode": "overlay",
              "size": 10,
              "solidity": 0.2
             }
            },
            "type": "bar"
           }
          ],
          "barpolar": [
           {
            "marker": {
             "line": {
              "color": "white",
              "width": 0.5
             },
             "pattern": {
              "fillmode": "overlay",
              "size": 10,
              "solidity": 0.2
             }
            },
            "type": "barpolar"
           }
          ],
          "carpet": [
           {
            "aaxis": {
             "endlinecolor": "#2a3f5f",
             "gridcolor": "#C8D4E3",
             "linecolor": "#C8D4E3",
             "minorgridcolor": "#C8D4E3",
             "startlinecolor": "#2a3f5f"
            },
            "baxis": {
             "endlinecolor": "#2a3f5f",
             "gridcolor": "#C8D4E3",
             "linecolor": "#C8D4E3",
             "minorgridcolor": "#C8D4E3",
             "startlinecolor": "#2a3f5f"
            },
            "type": "carpet"
           }
          ],
          "choropleth": [
           {
            "colorbar": {
             "outlinewidth": 0,
             "ticks": ""
            },
            "type": "choropleth"
           }
          ],
          "contour": [
           {
            "colorbar": {
             "outlinewidth": 0,
             "ticks": ""
            },
            "colorscale": [
             [
              0,
              "#0d0887"
             ],
             [
              0.1111111111111111,
              "#46039f"
             ],
             [
              0.2222222222222222,
              "#7201a8"
             ],
             [
              0.3333333333333333,
              "#9c179e"
             ],
             [
              0.4444444444444444,
              "#bd3786"
             ],
             [
              0.5555555555555556,
              "#d8576b"
             ],
             [
              0.6666666666666666,
              "#ed7953"
             ],
             [
              0.7777777777777778,
              "#fb9f3a"
             ],
             [
              0.8888888888888888,
              "#fdca26"
             ],
             [
              1,
              "#f0f921"
             ]
            ],
            "type": "contour"
           }
          ],
          "contourcarpet": [
           {
            "colorbar": {
             "outlinewidth": 0,
             "ticks": ""
            },
            "type": "contourcarpet"
           }
          ],
          "heatmap": [
           {
            "colorbar": {
             "outlinewidth": 0,
             "ticks": ""
            },
            "colorscale": [
             [
              0,
              "#0d0887"
             ],
             [
              0.1111111111111111,
              "#46039f"
             ],
             [
              0.2222222222222222,
              "#7201a8"
             ],
             [
              0.3333333333333333,
              "#9c179e"
             ],
             [
              0.4444444444444444,
              "#bd3786"
             ],
             [
              0.5555555555555556,
              "#d8576b"
             ],
             [
              0.6666666666666666,
              "#ed7953"
             ],
             [
              0.7777777777777778,
              "#fb9f3a"
             ],
             [
              0.8888888888888888,
              "#fdca26"
             ],
             [
              1,
              "#f0f921"
             ]
            ],
            "type": "heatmap"
           }
          ],
          "histogram": [
           {
            "marker": {
             "pattern": {
              "fillmode": "overlay",
              "size": 10,
              "solidity": 0.2
             }
            },
            "type": "histogram"
           }
          ],
          "histogram2d": [
           {
            "colorbar": {
             "outlinewidth": 0,
             "ticks": ""
            },
            "colorscale": [
             [
              0,
              "#0d0887"
             ],
             [
              0.1111111111111111,
              "#46039f"
             ],
             [
              0.2222222222222222,
              "#7201a8"
             ],
             [
              0.3333333333333333,
              "#9c179e"
             ],
             [
              0.4444444444444444,
              "#bd3786"
             ],
             [
              0.5555555555555556,
              "#d8576b"
             ],
             [
              0.6666666666666666,
              "#ed7953"
             ],
             [
              0.7777777777777778,
              "#fb9f3a"
             ],
             [
              0.8888888888888888,
              "#fdca26"
             ],
             [
              1,
              "#f0f921"
             ]
            ],
            "type": "histogram2d"
           }
          ],
          "histogram2dcontour": [
           {
            "colorbar": {
             "outlinewidth": 0,
             "ticks": ""
            },
            "colorscale": [
             [
              0,
              "#0d0887"
             ],
             [
              0.1111111111111111,
              "#46039f"
             ],
             [
              0.2222222222222222,
              "#7201a8"
             ],
             [
              0.3333333333333333,
              "#9c179e"
             ],
             [
              0.4444444444444444,
              "#bd3786"
             ],
             [
              0.5555555555555556,
              "#d8576b"
             ],
             [
              0.6666666666666666,
              "#ed7953"
             ],
             [
              0.7777777777777778,
              "#fb9f3a"
             ],
             [
              0.8888888888888888,
              "#fdca26"
             ],
             [
              1,
              "#f0f921"
             ]
            ],
            "type": "histogram2dcontour"
           }
          ],
          "mesh3d": [
           {
            "colorbar": {
             "outlinewidth": 0,
             "ticks": ""
            },
            "type": "mesh3d"
           }
          ],
          "parcoords": [
           {
            "line": {
             "colorbar": {
              "outlinewidth": 0,
              "ticks": ""
             }
            },
            "type": "parcoords"
           }
          ],
          "pie": [
           {
            "automargin": true,
            "type": "pie"
           }
          ],
          "scatter": [
           {
            "fillpattern": {
             "fillmode": "overlay",
             "size": 10,
             "solidity": 0.2
            },
            "type": "scatter"
           }
          ],
          "scatter3d": [
           {
            "line": {
             "colorbar": {
              "outlinewidth": 0,
              "ticks": ""
             }
            },
            "marker": {
             "colorbar": {
              "outlinewidth": 0,
              "ticks": ""
             }
            },
            "type": "scatter3d"
           }
          ],
          "scattercarpet": [
           {
            "marker": {
             "colorbar": {
              "outlinewidth": 0,
              "ticks": ""
             }
            },
            "type": "scattercarpet"
           }
          ],
          "scattergeo": [
           {
            "marker": {
             "colorbar": {
              "outlinewidth": 0,
              "ticks": ""
             }
            },
            "type": "scattergeo"
           }
          ],
          "scattergl": [
           {
            "marker": {
             "colorbar": {
              "outlinewidth": 0,
              "ticks": ""
             }
            },
            "type": "scattergl"
           }
          ],
          "scattermap": [
           {
            "marker": {
             "colorbar": {
              "outlinewidth": 0,
              "ticks": ""
             }
            },
            "type": "scattermap"
           }
          ],
          "scattermapbox": [
           {
            "marker": {
             "colorbar": {
              "outlinewidth": 0,
              "ticks": ""
             }
            },
            "type": "scattermapbox"
           }
          ],
          "scatterpolar": [
           {
            "marker": {
             "colorbar": {
              "outlinewidth": 0,
              "ticks": ""
             }
            },
            "type": "scatterpolar"
           }
          ],
          "scatterpolargl": [
           {
            "marker": {
             "colorbar": {
              "outlinewidth": 0,
              "ticks": ""
             }
            },
            "type": "scatterpolargl"
           }
          ],
          "scatterternary": [
           {
            "marker": {
             "colorbar": {
              "outlinewidth": 0,
              "ticks": ""
             }
            },
            "type": "scatterternary"
           }
          ],
          "surface": [
           {
            "colorbar": {
             "outlinewidth": 0,
             "ticks": ""
            },
            "colorscale": [
             [
              0,
              "#0d0887"
             ],
             [
              0.1111111111111111,
              "#46039f"
             ],
             [
              0.2222222222222222,
              "#7201a8"
             ],
             [
              0.3333333333333333,
              "#9c179e"
             ],
             [
              0.4444444444444444,
              "#bd3786"
             ],
             [
              0.5555555555555556,
              "#d8576b"
             ],
             [
              0.6666666666666666,
              "#ed7953"
             ],
             [
              0.7777777777777778,
              "#fb9f3a"
             ],
             [
              0.8888888888888888,
              "#fdca26"
             ],
             [
              1,
              "#f0f921"
             ]
            ],
            "type": "surface"
           }
          ],
          "table": [
           {
            "cells": {
             "fill": {
              "color": "#EBF0F8"
             },
             "line": {
              "color": "white"
             }
            },
            "header": {
             "fill": {
              "color": "#C8D4E3"
             },
             "line": {
              "color": "white"
             }
            },
            "type": "table"
           }
          ]
         },
         "layout": {
          "annotationdefaults": {
           "arrowcolor": "#2a3f5f",
           "arrowhead": 0,
           "arrowwidth": 1
          },
          "autotypenumbers": "strict",
          "coloraxis": {
           "colorbar": {
            "outlinewidth": 0,
            "ticks": ""
           }
          },
          "colorscale": {
           "diverging": [
            [
             0,
             "#8e0152"
            ],
            [
             0.1,
             "#c51b7d"
            ],
            [
             0.2,
             "#de77ae"
            ],
            [
             0.3,
             "#f1b6da"
            ],
            [
             0.4,
             "#fde0ef"
            ],
            [
             0.5,
             "#f7f7f7"
            ],
            [
             0.6,
             "#e6f5d0"
            ],
            [
             0.7,
             "#b8e186"
            ],
            [
             0.8,
             "#7fbc41"
            ],
            [
             0.9,
             "#4d9221"
            ],
            [
             1,
             "#276419"
            ]
           ],
           "sequential": [
            [
             0,
             "#0d0887"
            ],
            [
             0.1111111111111111,
             "#46039f"
            ],
            [
             0.2222222222222222,
             "#7201a8"
            ],
            [
             0.3333333333333333,
             "#9c179e"
            ],
            [
             0.4444444444444444,
             "#bd3786"
            ],
            [
             0.5555555555555556,
             "#d8576b"
            ],
            [
             0.6666666666666666,
             "#ed7953"
            ],
            [
             0.7777777777777778,
             "#fb9f3a"
            ],
            [
             0.8888888888888888,
             "#fdca26"
            ],
            [
             1,
             "#f0f921"
            ]
           ],
           "sequentialminus": [
            [
             0,
             "#0d0887"
            ],
            [
             0.1111111111111111,
             "#46039f"
            ],
            [
             0.2222222222222222,
             "#7201a8"
            ],
            [
             0.3333333333333333,
             "#9c179e"
            ],
            [
             0.4444444444444444,
             "#bd3786"
            ],
            [
             0.5555555555555556,
             "#d8576b"
            ],
            [
             0.6666666666666666,
             "#ed7953"
            ],
            [
             0.7777777777777778,
             "#fb9f3a"
            ],
            [
             0.8888888888888888,
             "#fdca26"
            ],
            [
             1,
             "#f0f921"
            ]
           ]
          },
          "colorway": [
           "#636efa",
           "#EF553B",
           "#00cc96",
           "#ab63fa",
           "#FFA15A",
           "#19d3f3",
           "#FF6692",
           "#B6E880",
           "#FF97FF",
           "#FECB52"
          ],
          "font": {
           "color": "#2a3f5f"
          },
          "geo": {
           "bgcolor": "white",
           "lakecolor": "white",
           "landcolor": "white",
           "showlakes": true,
           "showland": true,
           "subunitcolor": "#C8D4E3"
          },
          "hoverlabel": {
           "align": "left"
          },
          "hovermode": "closest",
          "mapbox": {
           "style": "light"
          },
          "paper_bgcolor": "white",
          "plot_bgcolor": "white",
          "polar": {
           "angularaxis": {
            "gridcolor": "#EBF0F8",
            "linecolor": "#EBF0F8",
            "ticks": ""
           },
           "bgcolor": "white",
           "radialaxis": {
            "gridcolor": "#EBF0F8",
            "linecolor": "#EBF0F8",
            "ticks": ""
           }
          },
          "scene": {
           "xaxis": {
            "backgroundcolor": "white",
            "gridcolor": "#DFE8F3",
            "gridwidth": 2,
            "linecolor": "#EBF0F8",
            "showbackground": true,
            "ticks": "",
            "zerolinecolor": "#EBF0F8"
           },
           "yaxis": {
            "backgroundcolor": "white",
            "gridcolor": "#DFE8F3",
            "gridwidth": 2,
            "linecolor": "#EBF0F8",
            "showbackground": true,
            "ticks": "",
            "zerolinecolor": "#EBF0F8"
           },
           "zaxis": {
            "backgroundcolor": "white",
            "gridcolor": "#DFE8F3",
            "gridwidth": 2,
            "linecolor": "#EBF0F8",
            "showbackground": true,
            "ticks": "",
            "zerolinecolor": "#EBF0F8"
           }
          },
          "shapedefaults": {
           "line": {
            "color": "#2a3f5f"
           }
          },
          "ternary": {
           "aaxis": {
            "gridcolor": "#DFE8F3",
            "linecolor": "#A2B1C6",
            "ticks": ""
           },
           "baxis": {
            "gridcolor": "#DFE8F3",
            "linecolor": "#A2B1C6",
            "ticks": ""
           },
           "bgcolor": "white",
           "caxis": {
            "gridcolor": "#DFE8F3",
            "linecolor": "#A2B1C6",
            "ticks": ""
           }
          },
          "title": {
           "x": 0.05
          },
          "xaxis": {
           "automargin": true,
           "gridcolor": "#EBF0F8",
           "linecolor": "#EBF0F8",
           "ticks": "",
           "title": {
            "standoff": 15
           },
           "zerolinecolor": "#EBF0F8",
           "zerolinewidth": 2
          },
          "yaxis": {
           "automargin": true,
           "gridcolor": "#EBF0F8",
           "linecolor": "#EBF0F8",
           "ticks": "",
           "title": {
            "standoff": 15
           },
           "zerolinecolor": "#EBF0F8",
           "zerolinewidth": 2
          }
         }
        },
        "title": {
         "text": "Trends in Temperature Change and CO₂ Concentrations"
        },
        "xaxis": {
         "title": {
          "text": "Year"
         }
        },
        "yaxis": {
         "title": {
          "text": "Values"
         }
        }
       }
      }
     },
     "metadata": {},
     "output_type": "display_data"
    }
   ],
   "source": [
    "from scipy.stats import linregress\n",
    "\n",
    "# temperature trend\n",
    "temp_trend = linregress(temperature_years.index, temperature_years.values)\n",
    "temp_trend_line = temp_trend.slope * temperature_years.index + temp_trend.intercept\n",
    "\n",
    "# CO2 trend\n",
    "co2_trend = linregress(co2_yearly.index, co2_yearly.values)\n",
    "co2_trend_line = co2_trend.slope * co2_yearly.index + co2_trend.intercept\n",
    "\n",
    "fig_trends = go.Figure()\n",
    "\n",
    "fig_trends.add_trace(go.Scatter(\n",
    "    x=temperature_years.index, y=temperature_years.values,\n",
    "    mode='lines+markers', name=\"Temperature Change (°C)\"\n",
    "))\n",
    "fig_trends.add_trace(go.Scatter(\n",
    "    x=temperature_years.index, y=temp_trend_line,\n",
    "    mode='lines', name=f\"Temperature Trend (Slope: {temp_trend.slope:.2f})\", line=dict(dash='dash')\n",
    "))\n",
    "fig_trends.add_trace(go.Scatter(\n",
    "    x=co2_yearly.index, y=co2_yearly.values,\n",
    "    mode='lines+markers', name=\"CO₂ Concentration (ppm)\"\n",
    "))\n",
    "fig_trends.add_trace(go.Scatter(\n",
    "    x=co2_yearly.index, y=co2_trend_line,\n",
    "    mode='lines', name=f\"CO₂ Trend (Slope: {co2_trend.slope:.2f})\", line=dict(dash='dash')\n",
    "))\n",
    "\n",
    "fig_trends.update_layout(\n",
    "    title=\"Trends in Temperature Change and CO₂ Concentrations\",\n",
    "    xaxis_title=\"Year\",\n",
    "    yaxis_title=\"Values\",\n",
    "    template=\"plotly_white\",\n",
    "    legend_title=\"Metrics\"\n",
    ")\n",
    "fig_trends.show()\n",
    "fig.write_image('../outputs/Trends in Temperature Change and CO₂ Concentrations.jpeg')"
   ]
  },
  {
   "cell_type": "markdown",
   "id": "7f0a0503-66c4-498c-a8d0-0a703d3ce523",
   "metadata": {},
   "source": [
    "The graph shows the linear trends in both temperature change and CO₂ concentrations over time, represented by their respective slopes. The CO₂ trend has a much steeper slope (0.32) compared to temperature (0.03), which indicates a faster rate of increase in CO₂ emissions relative to temperature change. This suggests that while CO₂ levels are rising rapidly, the temperature impact, though slower, is accumulating steadily and may have long-term consequences."
   ]
  },
  {
   "cell_type": "code",
   "execution_count": 9,
   "id": "ab0435b6-a9a8-44d0-9465-8f85c8242952",
   "metadata": {},
   "outputs": [
    {
     "data": {
      "application/vnd.plotly.v1+json": {
       "config": {
        "plotlyServerURL": "https://plot.ly"
       },
       "data": [
        {
         "hovertemplate": "Month=%{x}<br>CO₂ Concentration (ppm)=%{y}<extra></extra>",
         "legendgroup": "",
         "line": {
          "color": "#636efa",
          "dash": "solid"
         },
         "marker": {
          "symbol": "circle"
         },
         "mode": "lines+markers",
         "name": "",
         "orientation": "v",
         "showlegend": false,
         "type": "scatter",
         "x": {
          "bdata": "AQIDBAUGBwgJCgsM",
          "dtype": "i1"
         },
         "xaxis": "x",
         "y": {
          "bdata": "v52aEvZEZkAOfqx7eqlmQG217X1/q2ZAAdBx8HTAZkCvTCFC1slmQLcUBV3OwGZAetVf4hCoZkBQb1CRl4dmQBq+gJPDbmZA8ABcVbRvZkDsyhQiZIVmQF7TUCK7mmZA",
          "dtype": "f8"
         },
         "yaxis": "y"
        }
       ],
       "layout": {
        "legend": {
         "tracegroupgap": 0
        },
        "template": {
         "data": {
          "bar": [
           {
            "error_x": {
             "color": "#2a3f5f"
            },
            "error_y": {
             "color": "#2a3f5f"
            },
            "marker": {
             "line": {
              "color": "white",
              "width": 0.5
             },
             "pattern": {
              "fillmode": "overlay",
              "size": 10,
              "solidity": 0.2
             }
            },
            "type": "bar"
           }
          ],
          "barpolar": [
           {
            "marker": {
             "line": {
              "color": "white",
              "width": 0.5
             },
             "pattern": {
              "fillmode": "overlay",
              "size": 10,
              "solidity": 0.2
             }
            },
            "type": "barpolar"
           }
          ],
          "carpet": [
           {
            "aaxis": {
             "endlinecolor": "#2a3f5f",
             "gridcolor": "#C8D4E3",
             "linecolor": "#C8D4E3",
             "minorgridcolor": "#C8D4E3",
             "startlinecolor": "#2a3f5f"
            },
            "baxis": {
             "endlinecolor": "#2a3f5f",
             "gridcolor": "#C8D4E3",
             "linecolor": "#C8D4E3",
             "minorgridcolor": "#C8D4E3",
             "startlinecolor": "#2a3f5f"
            },
            "type": "carpet"
           }
          ],
          "choropleth": [
           {
            "colorbar": {
             "outlinewidth": 0,
             "ticks": ""
            },
            "type": "choropleth"
           }
          ],
          "contour": [
           {
            "colorbar": {
             "outlinewidth": 0,
             "ticks": ""
            },
            "colorscale": [
             [
              0,
              "#0d0887"
             ],
             [
              0.1111111111111111,
              "#46039f"
             ],
             [
              0.2222222222222222,
              "#7201a8"
             ],
             [
              0.3333333333333333,
              "#9c179e"
             ],
             [
              0.4444444444444444,
              "#bd3786"
             ],
             [
              0.5555555555555556,
              "#d8576b"
             ],
             [
              0.6666666666666666,
              "#ed7953"
             ],
             [
              0.7777777777777778,
              "#fb9f3a"
             ],
             [
              0.8888888888888888,
              "#fdca26"
             ],
             [
              1,
              "#f0f921"
             ]
            ],
            "type": "contour"
           }
          ],
          "contourcarpet": [
           {
            "colorbar": {
             "outlinewidth": 0,
             "ticks": ""
            },
            "type": "contourcarpet"
           }
          ],
          "heatmap": [
           {
            "colorbar": {
             "outlinewidth": 0,
             "ticks": ""
            },
            "colorscale": [
             [
              0,
              "#0d0887"
             ],
             [
              0.1111111111111111,
              "#46039f"
             ],
             [
              0.2222222222222222,
              "#7201a8"
             ],
             [
              0.3333333333333333,
              "#9c179e"
             ],
             [
              0.4444444444444444,
              "#bd3786"
             ],
             [
              0.5555555555555556,
              "#d8576b"
             ],
             [
              0.6666666666666666,
              "#ed7953"
             ],
             [
              0.7777777777777778,
              "#fb9f3a"
             ],
             [
              0.8888888888888888,
              "#fdca26"
             ],
             [
              1,
              "#f0f921"
             ]
            ],
            "type": "heatmap"
           }
          ],
          "histogram": [
           {
            "marker": {
             "pattern": {
              "fillmode": "overlay",
              "size": 10,
              "solidity": 0.2
             }
            },
            "type": "histogram"
           }
          ],
          "histogram2d": [
           {
            "colorbar": {
             "outlinewidth": 0,
             "ticks": ""
            },
            "colorscale": [
             [
              0,
              "#0d0887"
             ],
             [
              0.1111111111111111,
              "#46039f"
             ],
             [
              0.2222222222222222,
              "#7201a8"
             ],
             [
              0.3333333333333333,
              "#9c179e"
             ],
             [
              0.4444444444444444,
              "#bd3786"
             ],
             [
              0.5555555555555556,
              "#d8576b"
             ],
             [
              0.6666666666666666,
              "#ed7953"
             ],
             [
              0.7777777777777778,
              "#fb9f3a"
             ],
             [
              0.8888888888888888,
              "#fdca26"
             ],
             [
              1,
              "#f0f921"
             ]
            ],
            "type": "histogram2d"
           }
          ],
          "histogram2dcontour": [
           {
            "colorbar": {
             "outlinewidth": 0,
             "ticks": ""
            },
            "colorscale": [
             [
              0,
              "#0d0887"
             ],
             [
              0.1111111111111111,
              "#46039f"
             ],
             [
              0.2222222222222222,
              "#7201a8"
             ],
             [
              0.3333333333333333,
              "#9c179e"
             ],
             [
              0.4444444444444444,
              "#bd3786"
             ],
             [
              0.5555555555555556,
              "#d8576b"
             ],
             [
              0.6666666666666666,
              "#ed7953"
             ],
             [
              0.7777777777777778,
              "#fb9f3a"
             ],
             [
              0.8888888888888888,
              "#fdca26"
             ],
             [
              1,
              "#f0f921"
             ]
            ],
            "type": "histogram2dcontour"
           }
          ],
          "mesh3d": [
           {
            "colorbar": {
             "outlinewidth": 0,
             "ticks": ""
            },
            "type": "mesh3d"
           }
          ],
          "parcoords": [
           {
            "line": {
             "colorbar": {
              "outlinewidth": 0,
              "ticks": ""
             }
            },
            "type": "parcoords"
           }
          ],
          "pie": [
           {
            "automargin": true,
            "type": "pie"
           }
          ],
          "scatter": [
           {
            "fillpattern": {
             "fillmode": "overlay",
             "size": 10,
             "solidity": 0.2
            },
            "type": "scatter"
           }
          ],
          "scatter3d": [
           {
            "line": {
             "colorbar": {
              "outlinewidth": 0,
              "ticks": ""
             }
            },
            "marker": {
             "colorbar": {
              "outlinewidth": 0,
              "ticks": ""
             }
            },
            "type": "scatter3d"
           }
          ],
          "scattercarpet": [
           {
            "marker": {
             "colorbar": {
              "outlinewidth": 0,
              "ticks": ""
             }
            },
            "type": "scattercarpet"
           }
          ],
          "scattergeo": [
           {
            "marker": {
             "colorbar": {
              "outlinewidth": 0,
              "ticks": ""
             }
            },
            "type": "scattergeo"
           }
          ],
          "scattergl": [
           {
            "marker": {
             "colorbar": {
              "outlinewidth": 0,
              "ticks": ""
             }
            },
            "type": "scattergl"
           }
          ],
          "scattermap": [
           {
            "marker": {
             "colorbar": {
              "outlinewidth": 0,
              "ticks": ""
             }
            },
            "type": "scattermap"
           }
          ],
          "scattermapbox": [
           {
            "marker": {
             "colorbar": {
              "outlinewidth": 0,
              "ticks": ""
             }
            },
            "type": "scattermapbox"
           }
          ],
          "scatterpolar": [
           {
            "marker": {
             "colorbar": {
              "outlinewidth": 0,
              "ticks": ""
             }
            },
            "type": "scatterpolar"
           }
          ],
          "scatterpolargl": [
           {
            "marker": {
             "colorbar": {
              "outlinewidth": 0,
              "ticks": ""
             }
            },
            "type": "scatterpolargl"
           }
          ],
          "scatterternary": [
           {
            "marker": {
             "colorbar": {
              "outlinewidth": 0,
              "ticks": ""
             }
            },
            "type": "scatterternary"
           }
          ],
          "surface": [
           {
            "colorbar": {
             "outlinewidth": 0,
             "ticks": ""
            },
            "colorscale": [
             [
              0,
              "#0d0887"
             ],
             [
              0.1111111111111111,
              "#46039f"
             ],
             [
              0.2222222222222222,
              "#7201a8"
             ],
             [
              0.3333333333333333,
              "#9c179e"
             ],
             [
              0.4444444444444444,
              "#bd3786"
             ],
             [
              0.5555555555555556,
              "#d8576b"
             ],
             [
              0.6666666666666666,
              "#ed7953"
             ],
             [
              0.7777777777777778,
              "#fb9f3a"
             ],
             [
              0.8888888888888888,
              "#fdca26"
             ],
             [
              1,
              "#f0f921"
             ]
            ],
            "type": "surface"
           }
          ],
          "table": [
           {
            "cells": {
             "fill": {
              "color": "#EBF0F8"
             },
             "line": {
              "color": "white"
             }
            },
            "header": {
             "fill": {
              "color": "#C8D4E3"
             },
             "line": {
              "color": "white"
             }
            },
            "type": "table"
           }
          ]
         },
         "layout": {
          "annotationdefaults": {
           "arrowcolor": "#2a3f5f",
           "arrowhead": 0,
           "arrowwidth": 1
          },
          "autotypenumbers": "strict",
          "coloraxis": {
           "colorbar": {
            "outlinewidth": 0,
            "ticks": ""
           }
          },
          "colorscale": {
           "diverging": [
            [
             0,
             "#8e0152"
            ],
            [
             0.1,
             "#c51b7d"
            ],
            [
             0.2,
             "#de77ae"
            ],
            [
             0.3,
             "#f1b6da"
            ],
            [
             0.4,
             "#fde0ef"
            ],
            [
             0.5,
             "#f7f7f7"
            ],
            [
             0.6,
             "#e6f5d0"
            ],
            [
             0.7,
             "#b8e186"
            ],
            [
             0.8,
             "#7fbc41"
            ],
            [
             0.9,
             "#4d9221"
            ],
            [
             1,
             "#276419"
            ]
           ],
           "sequential": [
            [
             0,
             "#0d0887"
            ],
            [
             0.1111111111111111,
             "#46039f"
            ],
            [
             0.2222222222222222,
             "#7201a8"
            ],
            [
             0.3333333333333333,
             "#9c179e"
            ],
            [
             0.4444444444444444,
             "#bd3786"
            ],
            [
             0.5555555555555556,
             "#d8576b"
            ],
            [
             0.6666666666666666,
             "#ed7953"
            ],
            [
             0.7777777777777778,
             "#fb9f3a"
            ],
            [
             0.8888888888888888,
             "#fdca26"
            ],
            [
             1,
             "#f0f921"
            ]
           ],
           "sequentialminus": [
            [
             0,
             "#0d0887"
            ],
            [
             0.1111111111111111,
             "#46039f"
            ],
            [
             0.2222222222222222,
             "#7201a8"
            ],
            [
             0.3333333333333333,
             "#9c179e"
            ],
            [
             0.4444444444444444,
             "#bd3786"
            ],
            [
             0.5555555555555556,
             "#d8576b"
            ],
            [
             0.6666666666666666,
             "#ed7953"
            ],
            [
             0.7777777777777778,
             "#fb9f3a"
            ],
            [
             0.8888888888888888,
             "#fdca26"
            ],
            [
             1,
             "#f0f921"
            ]
           ]
          },
          "colorway": [
           "#636efa",
           "#EF553B",
           "#00cc96",
           "#ab63fa",
           "#FFA15A",
           "#19d3f3",
           "#FF6692",
           "#B6E880",
           "#FF97FF",
           "#FECB52"
          ],
          "font": {
           "color": "#2a3f5f"
          },
          "geo": {
           "bgcolor": "white",
           "lakecolor": "white",
           "landcolor": "white",
           "showlakes": true,
           "showland": true,
           "subunitcolor": "#C8D4E3"
          },
          "hoverlabel": {
           "align": "left"
          },
          "hovermode": "closest",
          "mapbox": {
           "style": "light"
          },
          "paper_bgcolor": "white",
          "plot_bgcolor": "white",
          "polar": {
           "angularaxis": {
            "gridcolor": "#EBF0F8",
            "linecolor": "#EBF0F8",
            "ticks": ""
           },
           "bgcolor": "white",
           "radialaxis": {
            "gridcolor": "#EBF0F8",
            "linecolor": "#EBF0F8",
            "ticks": ""
           }
          },
          "scene": {
           "xaxis": {
            "backgroundcolor": "white",
            "gridcolor": "#DFE8F3",
            "gridwidth": 2,
            "linecolor": "#EBF0F8",
            "showbackground": true,
            "ticks": "",
            "zerolinecolor": "#EBF0F8"
           },
           "yaxis": {
            "backgroundcolor": "white",
            "gridcolor": "#DFE8F3",
            "gridwidth": 2,
            "linecolor": "#EBF0F8",
            "showbackground": true,
            "ticks": "",
            "zerolinecolor": "#EBF0F8"
           },
           "zaxis": {
            "backgroundcolor": "white",
            "gridcolor": "#DFE8F3",
            "gridwidth": 2,
            "linecolor": "#EBF0F8",
            "showbackground": true,
            "ticks": "",
            "zerolinecolor": "#EBF0F8"
           }
          },
          "shapedefaults": {
           "line": {
            "color": "#2a3f5f"
           }
          },
          "ternary": {
           "aaxis": {
            "gridcolor": "#DFE8F3",
            "linecolor": "#A2B1C6",
            "ticks": ""
           },
           "baxis": {
            "gridcolor": "#DFE8F3",
            "linecolor": "#A2B1C6",
            "ticks": ""
           },
           "bgcolor": "white",
           "caxis": {
            "gridcolor": "#DFE8F3",
            "linecolor": "#A2B1C6",
            "ticks": ""
           }
          },
          "title": {
           "x": 0.05
          },
          "xaxis": {
           "automargin": true,
           "gridcolor": "#EBF0F8",
           "linecolor": "#EBF0F8",
           "ticks": "",
           "title": {
            "standoff": 15
           },
           "zerolinecolor": "#EBF0F8",
           "zerolinewidth": 2
          },
          "yaxis": {
           "automargin": true,
           "gridcolor": "#EBF0F8",
           "linecolor": "#EBF0F8",
           "ticks": "",
           "title": {
            "standoff": 15
           },
           "zerolinecolor": "#EBF0F8",
           "zerolinewidth": 2
          }
         }
        },
        "title": {
         "text": "Seasonal Variations in CO₂ Concentrations"
        },
        "xaxis": {
         "anchor": "y",
         "domain": [
          0,
          1
         ],
         "tickmode": "array",
         "tickvals": [
          1,
          2,
          3,
          4,
          5,
          6,
          7,
          8,
          9,
          10,
          11,
          12
         ],
         "title": {
          "text": "Month"
         }
        },
        "yaxis": {
         "anchor": "x",
         "domain": [
          0,
          1
         ],
         "title": {
          "text": "CO₂ Concentration (ppm)"
         }
        }
       }
      }
     },
     "metadata": {},
     "output_type": "display_data"
    }
   ],
   "source": [
    "# seasonal variations in CO2 concentrations\n",
    "co2_data['Month'] = co2_data['Date'].str[-2:].astype(int)\n",
    "co2_monthly = co2_data.groupby('Month')['Value'].mean()\n",
    "\n",
    "fig_seasonal = px.line(\n",
    "    co2_monthly,\n",
    "    x=co2_monthly.index,\n",
    "    y=co2_monthly.values,\n",
    "    labels={\"x\": \"Month\", \"y\": \"CO₂ Concentration (ppm)\"},\n",
    "    title=\"Seasonal Variations in CO₂ Concentrations\",\n",
    "    markers=True\n",
    ")\n",
    "fig_seasonal.update_layout(\n",
    "    xaxis=dict(tickmode=\"array\", tickvals=list(range(1, 13))),\n",
    "    template=\"plotly_white\"\n",
    ")\n",
    "fig_seasonal.show()\n",
    "fig.write_image('../outputs/Seasonal Variations in CO₂ Concentrations.jpeg')"
   ]
  },
  {
   "cell_type": "markdown",
   "id": "69f29830-6f8c-472a-9e31-c9e1c2213ea2",
   "metadata": {},
   "source": [
    "The above graph highlights the seasonal fluctuations in CO₂ concentrations, which peak during late spring and early summer (around May) and reach the lowest levels in fall (around September). These variations are likely due to natural processes such as plant photosynthesis, which absorbs CO₂ during the growing season, and respiration, which releases CO₂ in the off-season. This seasonal cycle underscores the role of natural carbon sinks in moderating atmospheric CO₂ levels."
   ]
  },
  {
   "cell_type": "markdown",
   "id": "94f48b2a-4c2e-456c-a230-788ce944343e",
   "metadata": {},
   "source": [
    "# Correlation and Casuality Analysis"
   ]
  },
  {
   "cell_type": "markdown",
   "id": "292274e2-67e2-4b72-ab9e-bf0d08111f61",
   "metadata": {},
   "source": [
    "To quantify the reltionship between CO₂ and tempreature anomalies, we will now compute <b>Pearson</b> and <b>Spearman Correlation coefficients</b>. And to investigate whether changes in CO₂ cause tempreature anomalies, we will perform <b>Granger Casuality tests:</b>"
   ]
  },
  {
   "cell_type": "code",
   "execution_count": 14,
   "id": "69a7f5c0-5024-4b67-a6c2-3bf946f2a799",
   "metadata": {},
   "outputs": [
    {
     "name": "stderr",
     "output_type": "stream",
     "text": [
      "C:\\Users\\admin\\miniconda3\\envs\\da_ml\\Lib\\site-packages\\statsmodels\\tsa\\stattools.py:1556: FutureWarning:\n",
      "\n",
      "verbose is deprecated since functions should not print results\n",
      "\n"
     ]
    },
    {
     "data": {
      "text/plain": [
       "(np.float64(0.9554282559257312),\n",
       " np.float64(0.9379013371609882),\n",
       " {'Lag 1': np.float64(0.0617),\n",
       "  'Lag 2': np.float64(0.6754),\n",
       "  'Lag 3': np.float64(0.2994)})"
      ]
     },
     "execution_count": 14,
     "metadata": {},
     "output_type": "execute_result"
    }
   ],
   "source": [
    "from scipy.stats import pearsonr, spearmanr\n",
    "from statsmodels.tsa.stattools import grangercausalitytests\n",
    "\n",
    "# pearson and spearman correlation coefficients\n",
    "pearson_corr, _ = pearsonr(merged_data[\"CO₂ Concentration\"], merged_data[\"Tempreature Change\"])\n",
    "spearman_corr, _ = spearmanr(merged_data[\"CO₂ Concentration\"], merged_data[\"Tempreature Change\"])\n",
    "\n",
    "# granger causality test\n",
    "granger_data = merged_data.diff().dropna()  # first differencing to make data stationary\n",
    "granger_results = grangercausalitytests(granger_data, maxlag=3, verbose=False)\n",
    "\n",
    "# extracting p-values for causality\n",
    "granger_p_values = {f\"Lag {lag}\": round(results[0]['ssr_chi2test'][1], 4)\n",
    "                    for lag, results in granger_results.items()}\n",
    "\n",
    "pearson_corr, spearman_corr, granger_p_values"
   ]
  },
  {
   "cell_type": "markdown",
   "id": "1e5d545f-dc3d-4d03-8955-a6aa97c2266f",
   "metadata": {},
   "source": [
    "<b>Pearson</b> Correlation (0.9554) indicates a very strong linear relationship between CO₂ concentrations and temperature changes. <b>Spearman Correlation </b> (0.9379) indicates a very strong monotonic relationship between CO₂ concentrations and temperature changes."
   ]
  },
  {
   "cell_type": "markdown",
   "id": "00cf011b-889f-4579-8506-afa229657f77",
   "metadata": {},
   "source": [
    "* Lag 1: 0.0617 (slighltly above the common significance threshold of 0.05, suggesting weak evidence for casuality).ipynb_checkpoints/\n",
    "* Lag 2: 0.6754 (not significant, no evidence of casuality).\n",
    "* Lag 3: 0.2994 (not significant, no evidence of casuality)."
   ]
  },
  {
   "cell_type": "markdown",
   "id": "8034ec29-fe53-433d-9aa0-9af3a4430736",
   "metadata": {},
   "source": [
    "There is a very strong correlation between CO₂ concentrations and temperature changes. However, Granger Causality tests do not provide strong evidence that changes in CO₂ concentrations directly cause changes in temperature within the lags tested."
   ]
  },
  {
   "cell_type": "markdown",
   "id": "b2a8f388-a730-4f8b-8bcc-99970b9ec004",
   "metadata": {},
   "source": [
    "# Lagged Effects Analysis"
   ]
  },
  {
   "cell_type": "markdown",
   "id": "a69f5921-af40-457c-a501-95ee9b33cdf9",
   "metadata": {},
   "source": [
    "Now, we will analyze whether CO₂ concentrations from previous years (lagged values) influence current temperature anomalies. To do this, we will create lagged variables for CO₂ concentrations, specifically shifting the data by 1, 2, and 3 years. These lagged values will allow us to test if historical CO₂ levels have a delayed impact on temperature changes."
   ]
  },
  {
   "cell_type": "markdown",
   "id": "fc8dd34a-6ab8-49b7-b1b4-eb8942b28880",
   "metadata": {},
   "source": [
    "After creating these lagged variables, we will fit an <b> Ordinary Least Squares (OLS) </b> regression model. This model will use current and lagged CO₂ levels as predictors to estimate their contribution to current temperature anomalies. By examining the regression results, we will determine:"
   ]
  },
  {
   "cell_type": "markdown",
   "id": "34c94741-e59d-4f5c-a9d1-e022c6dfbcc7",
   "metadata": {},
   "source": [
    "* How Strongly current CO₂ levels affect tempreature changes.\n",
    "* Whether CO₂ levels from previous yeats have a significant impact"
   ]
  },
  {
   "cell_type": "code",
   "execution_count": 15,
   "id": "0e1e6d26-3567-40d2-aee2-492ed6414ea2",
   "metadata": {},
   "outputs": [
    {
     "data": {
      "text/html": [
       "<table class=\"simpletable\">\n",
       "<caption>OLS Regression Results</caption>\n",
       "<tr>\n",
       "  <th>Dep. Variable:</th>    <td>Tempreature Change</td> <th>  R-squared:         </th> <td>   0.949</td>\n",
       "</tr>\n",
       "<tr>\n",
       "  <th>Model:</th>                    <td>OLS</td>        <th>  Adj. R-squared:    </th> <td>   0.945</td>\n",
       "</tr>\n",
       "<tr>\n",
       "  <th>Method:</th>              <td>Least Squares</td>   <th>  F-statistic:       </th> <td>   252.5</td>\n",
       "</tr>\n",
       "<tr>\n",
       "  <th>Date:</th>              <td>Wed, 07 May 2025</td>  <th>  Prob (F-statistic):</th> <td>2.97e-34</td>\n",
       "</tr>\n",
       "<tr>\n",
       "  <th>Time:</th>                  <td>21:41:47</td>      <th>  Log-Likelihood:    </th> <td>  45.098</td>\n",
       "</tr>\n",
       "<tr>\n",
       "  <th>No. Observations:</th>       <td>    59</td>       <th>  AIC:               </th> <td>  -80.20</td>\n",
       "</tr>\n",
       "<tr>\n",
       "  <th>Df Residuals:</th>           <td>    54</td>       <th>  BIC:               </th> <td>  -69.81</td>\n",
       "</tr>\n",
       "<tr>\n",
       "  <th>Df Model:</th>               <td>     4</td>       <th>                     </th>     <td> </td>   \n",
       "</tr>\n",
       "<tr>\n",
       "  <th>Covariance Type:</th>       <td>nonrobust</td>     <th>                     </th>     <td> </td>   \n",
       "</tr>\n",
       "</table>\n",
       "<table class=\"simpletable\">\n",
       "<tr>\n",
       "          <td></td>             <th>coef</th>     <th>std err</th>      <th>t</th>      <th>P>|t|</th>  <th>[0.025</th>    <th>0.975]</th>  \n",
       "</tr>\n",
       "<tr>\n",
       "  <th>const</th>             <td>   -4.7980</td> <td>    0.317</td> <td>  -15.137</td> <td> 0.000</td> <td>   -5.434</td> <td>   -4.163</td>\n",
       "</tr>\n",
       "<tr>\n",
       "  <th>CO₂ Concentration</th> <td>    0.3245</td> <td>    0.055</td> <td>    5.942</td> <td> 0.000</td> <td>    0.215</td> <td>    0.434</td>\n",
       "</tr>\n",
       "<tr>\n",
       "  <th>CO₂ Lag 1</th>         <td>   -0.2962</td> <td>    0.068</td> <td>   -4.361</td> <td> 0.000</td> <td>   -0.432</td> <td>   -0.160</td>\n",
       "</tr>\n",
       "<tr>\n",
       "  <th>CO₂ Lag 2</th>         <td>    0.0104</td> <td>    0.068</td> <td>    0.153</td> <td> 0.879</td> <td>   -0.126</td> <td>    0.146</td>\n",
       "</tr>\n",
       "<tr>\n",
       "  <th>CO₂ Lag 3</th>         <td>   -0.0107</td> <td>    0.056</td> <td>   -0.191</td> <td> 0.849</td> <td>   -0.123</td> <td>    0.101</td>\n",
       "</tr>\n",
       "</table>\n",
       "<table class=\"simpletable\">\n",
       "<tr>\n",
       "  <th>Omnibus:</th>       <td> 2.369</td> <th>  Durbin-Watson:     </th> <td>   1.554</td>\n",
       "</tr>\n",
       "<tr>\n",
       "  <th>Prob(Omnibus):</th> <td> 0.306</td> <th>  Jarque-Bera (JB):  </th> <td>   2.077</td>\n",
       "</tr>\n",
       "<tr>\n",
       "  <th>Skew:</th>          <td>-0.457</td> <th>  Prob(JB):          </th> <td>   0.354</td>\n",
       "</tr>\n",
       "<tr>\n",
       "  <th>Kurtosis:</th>      <td> 2.902</td> <th>  Cond. No.          </th> <td>7.54e+03</td>\n",
       "</tr>\n",
       "</table><br/><br/>Notes:<br/>[1] Standard Errors assume that the covariance matrix of the errors is correctly specified.<br/>[2] The condition number is large, 7.54e+03. This might indicate that there are<br/>strong multicollinearity or other numerical problems."
      ],
      "text/latex": [
       "\\begin{center}\n",
       "\\begin{tabular}{lclc}\n",
       "\\toprule\n",
       "\\textbf{Dep. Variable:}    & Tempreature Change & \\textbf{  R-squared:         } &     0.949   \\\\\n",
       "\\textbf{Model:}            &        OLS         & \\textbf{  Adj. R-squared:    } &     0.945   \\\\\n",
       "\\textbf{Method:}           &   Least Squares    & \\textbf{  F-statistic:       } &     252.5   \\\\\n",
       "\\textbf{Date:}             &  Wed, 07 May 2025  & \\textbf{  Prob (F-statistic):} &  2.97e-34   \\\\\n",
       "\\textbf{Time:}             &      21:41:47      & \\textbf{  Log-Likelihood:    } &    45.098   \\\\\n",
       "\\textbf{No. Observations:} &           59       & \\textbf{  AIC:               } &    -80.20   \\\\\n",
       "\\textbf{Df Residuals:}     &           54       & \\textbf{  BIC:               } &    -69.81   \\\\\n",
       "\\textbf{Df Model:}         &            4       & \\textbf{                     } &             \\\\\n",
       "\\textbf{Covariance Type:}  &     nonrobust      & \\textbf{                     } &             \\\\\n",
       "\\bottomrule\n",
       "\\end{tabular}\n",
       "\\begin{tabular}{lcccccc}\n",
       "                           & \\textbf{coef} & \\textbf{std err} & \\textbf{t} & \\textbf{P$> |$t$|$} & \\textbf{[0.025} & \\textbf{0.975]}  \\\\\n",
       "\\midrule\n",
       "\\textbf{const}             &      -4.7980  &        0.317     &   -15.137  &         0.000        &       -5.434    &       -4.163     \\\\\n",
       "\\textbf{CO₂ Concentration} &       0.3245  &        0.055     &     5.942  &         0.000        &        0.215    &        0.434     \\\\\n",
       "\\textbf{CO₂ Lag 1}         &      -0.2962  &        0.068     &    -4.361  &         0.000        &       -0.432    &       -0.160     \\\\\n",
       "\\textbf{CO₂ Lag 2}         &       0.0104  &        0.068     &     0.153  &         0.879        &       -0.126    &        0.146     \\\\\n",
       "\\textbf{CO₂ Lag 3}         &      -0.0107  &        0.056     &    -0.191  &         0.849        &       -0.123    &        0.101     \\\\\n",
       "\\bottomrule\n",
       "\\end{tabular}\n",
       "\\begin{tabular}{lclc}\n",
       "\\textbf{Omnibus:}       &  2.369 & \\textbf{  Durbin-Watson:     } &    1.554  \\\\\n",
       "\\textbf{Prob(Omnibus):} &  0.306 & \\textbf{  Jarque-Bera (JB):  } &    2.077  \\\\\n",
       "\\textbf{Skew:}          & -0.457 & \\textbf{  Prob(JB):          } &    0.354  \\\\\n",
       "\\textbf{Kurtosis:}      &  2.902 & \\textbf{  Cond. No.          } & 7.54e+03  \\\\\n",
       "\\bottomrule\n",
       "\\end{tabular}\n",
       "%\\caption{OLS Regression Results}\n",
       "\\end{center}\n",
       "\n",
       "Notes: \\newline\n",
       " [1] Standard Errors assume that the covariance matrix of the errors is correctly specified. \\newline\n",
       " [2] The condition number is large, 7.54e+03. This might indicate that there are \\newline\n",
       " strong multicollinearity or other numerical problems."
      ],
      "text/plain": [
       "<class 'statsmodels.iolib.summary.Summary'>\n",
       "\"\"\"\n",
       "                            OLS Regression Results                            \n",
       "==============================================================================\n",
       "Dep. Variable:     Tempreature Change   R-squared:                       0.949\n",
       "Model:                            OLS   Adj. R-squared:                  0.945\n",
       "Method:                 Least Squares   F-statistic:                     252.5\n",
       "Date:                Wed, 07 May 2025   Prob (F-statistic):           2.97e-34\n",
       "Time:                        21:41:47   Log-Likelihood:                 45.098\n",
       "No. Observations:                  59   AIC:                            -80.20\n",
       "Df Residuals:                      54   BIC:                            -69.81\n",
       "Df Model:                           4                                         \n",
       "Covariance Type:            nonrobust                                         \n",
       "=====================================================================================\n",
       "                        coef    std err          t      P>|t|      [0.025      0.975]\n",
       "-------------------------------------------------------------------------------------\n",
       "const                -4.7980      0.317    -15.137      0.000      -5.434      -4.163\n",
       "CO₂ Concentration     0.3245      0.055      5.942      0.000       0.215       0.434\n",
       "CO₂ Lag 1            -0.2962      0.068     -4.361      0.000      -0.432      -0.160\n",
       "CO₂ Lag 2             0.0104      0.068      0.153      0.879      -0.126       0.146\n",
       "CO₂ Lag 3            -0.0107      0.056     -0.191      0.849      -0.123       0.101\n",
       "==============================================================================\n",
       "Omnibus:                        2.369   Durbin-Watson:                   1.554\n",
       "Prob(Omnibus):                  0.306   Jarque-Bera (JB):                2.077\n",
       "Skew:                          -0.457   Prob(JB):                        0.354\n",
       "Kurtosis:                       2.902   Cond. No.                     7.54e+03\n",
       "==============================================================================\n",
       "\n",
       "Notes:\n",
       "[1] Standard Errors assume that the covariance matrix of the errors is correctly specified.\n",
       "[2] The condition number is large, 7.54e+03. This might indicate that there are\n",
       "strong multicollinearity or other numerical problems.\n",
       "\"\"\""
      ]
     },
     "execution_count": 15,
     "metadata": {},
     "output_type": "execute_result"
    }
   ],
   "source": [
    "import statsmodels.api as sm\n",
    "\n",
    "# creating lagged CO2 data to investigate lagged effects\n",
    "merged_data['CO₂ Lag 1'] = merged_data['CO₂ Concentration'].shift(1)\n",
    "merged_data['CO₂ Lag 2'] = merged_data['CO₂ Concentration'].shift(2)\n",
    "merged_data['CO₂ Lag 3'] = merged_data['CO₂ Concentration'].shift(3)\n",
    "\n",
    "# dropping rows with NaN due to lags\n",
    "lagged_data = merged_data.dropna()\n",
    "\n",
    "X = lagged_data[['CO₂ Concentration', 'CO₂ Lag 1', 'CO₂ Lag 2', 'CO₂ Lag 3']]\n",
    "y = lagged_data['Tempreature Change']\n",
    "X = sm.add_constant(X)\n",
    "\n",
    "model = sm.OLS(y, X).fit()\n",
    "\n",
    "model_summary = model.summary()\n",
    "model_summary"
   ]
  },
  {
   "cell_type": "markdown",
   "id": "d7dc45e2-6b91-43a0-95cd-92233e3decb3",
   "metadata": {},
   "source": [
    "The OLS regression results indicate a strong relationship between CO₂ concentration and temperature change, with an R-squared value of 0.949, meaning 94.9% of the variance in temperature change is explained by the model. The coefficient for CO₂ concentration (0.3245) is statistically significant (p < 0.05), which suggests a positive association between CO₂ levels and temperature change."
   ]
  },
  {
   "cell_type": "markdown",
   "id": "752245e5-ef68-4ea4-8b2b-a81209808e14",
   "metadata": {},
   "source": [
    "# Clustering Climate Patterns"
   ]
  },
  {
   "cell_type": "markdown",
   "id": "514fab52-1382-4e21-8b41-aab705d82a83",
   "metadata": {},
   "source": [
    "Next, we group years based on similarities in temperature anomalies and CO₂ concentrations using K-Means clustering:"
   ]
  },
  {
   "cell_type": "code",
   "execution_count": 10,
   "id": "ab828407-a287-4956-979d-57ede7a86222",
   "metadata": {},
   "outputs": [
    {
     "name": "stderr",
     "output_type": "stream",
     "text": [
      "c:\\Users\\ADMIN\\miniforge3\\envs\\da_ml\\Lib\\site-packages\\sklearn\\cluster\\_kmeans.py:1419: UserWarning:\n",
      "\n",
      "KMeans is known to have a memory leak on Windows with MKL, when there are less chunks than available threads. You can avoid it by setting the environment variable OMP_NUM_THREADS=1.\n",
      "\n"
     ]
    },
    {
     "data": {
      "application/vnd.plotly.v1+json": {
       "config": {
        "plotlyServerURL": "https://plot.ly"
       },
       "data": [
        {
         "hovertemplate": "Climate Pattern=Low Temp & CO₂<br>CO₂ Concentration (ppm)=%{x}<br>Tempreature Change=%{y}<extra></extra>",
         "legendgroup": "Low Temp & CO₂",
         "marker": {
          "color": "rgb(102,194,165)",
          "symbol": "circle"
         },
         "mode": "markers",
         "name": "Low Temp & CO₂",
         "orientation": "v",
         "showlegend": true,
         "type": "scatter",
         "x": {
          "bdata": "Om2g0wbeY0CPwvUoXOtjQGAs+cWS8mNAY8kvlvz8Y0CrqqqqqgJkQCW/WPKLHGRA7+7u7u4mZEDotIFOGzVkQPYoXI/CUWRAhetRuB5gZEDQaQOdNmhkQBhLfrHkfGRA5RdLfrGlZEDD9Shcj6VkQNMGOm2gtmRA9ihcj8LEZEB+seQXS+ZkQFyPwvUo/mRA",
          "dtype": "f8"
         },
         "xaxis": "x",
         "y": {
          "bdata": "HEV6Tu3exD+jkPWqZ5mLv+b1d4UTwHi/JXr/w1rvsb9XmftGkZ7Pv+ttWatjArs/cvEuIoRfvL95NrhMb3zJv6whYmhyN8Q/Ba4kjzattz8yRdmzaarJvyPb+X5qvLW/DXJUMu1bzT+R7Xw/Nd7Ev/KFilf9Dpi/MrrZayd6z79HxuU8dznFP5qDF1Y/07E/",
          "dtype": "f8"
         },
         "yaxis": "y"
        },
        {
         "hovertemplate": "Climate Pattern=Moderate Temp & CO₂<br>CO₂ Concentration (ppm)=%{x}<br>Tempreature Change=%{y}<extra></extra>",
         "legendgroup": "Moderate Temp & CO₂",
         "marker": {
          "color": "rgb(252,141,98)",
          "symbol": "circle"
         },
         "mode": "markers",
         "name": "Moderate Temp & CO₂",
         "orientation": "v",
         "showlegend": true,
         "type": "scatter",
         "x": {
          "bdata": "v1jyiyUUZUDyiyW/WDVlQFVVVVVVSGVAdNpApw1eZUB/seQXS3plQN3d3d3dlWVA7FG4HoWsZUDD9Shcj79lQKRwPQrX3GVA7+7u7u4FZkBcj8L1KBpmQLWBThvoLGZAtYFOG+hAZkCIiIiIiExmQD0K16NwVmZAXI/C9Sh3ZkB4d3d3d5hmQJNfLPnFs2ZA16NwPQrDZkB02kCnDRBnQGdmZmZmIGdA",
          "dtype": "f8"
         },
         "xaxis": "x",
         "y": {
          "bdata": "ldRurB/tzT9xUGa+IafPP0L/1k/O3cY/i7MPn2GXxj+NE0cV1w3WP+tkPJKMgrQ/vsbVUuE/sj82pjZTJFnDP8Wfz2vd69k/NZplPaBd3z+/GKw7EGXQPwM76hCvxOE/DrVnfAOQ1z+76t4hUUXOP5wH2Opqpcs/O8gxZCSB4z8MPQ7utyLkP7k/mYPh3tE/lniMjmho4T82iIQXIMnnPza4lVXqbuU/",
          "dtype": "f8"
         },
         "yaxis": "y"
        },
        {
         "hovertemplate": "Climate Pattern=High Temp & CO₂<br>CO₂ Concentration (ppm)=%{x}<br>Tempreature Change=%{y}<extra></extra>",
         "legendgroup": "High Temp & CO₂",
         "marker": {
          "color": "rgb(141,160,203)",
          "symbol": "circle"
         },
         "mode": "markers",
         "name": "High Temp & CO₂",
         "orientation": "v",
         "showlegend": true,
         "type": "scatter",
         "x": {
          "bdata": "FK5H4Xr6ZkARERERETxnQD0K16NwYGdAN9BpA52KZ0A9CtejcKJnQKDTBjptyWdAVVVVVVXqZ0Cx5BdLfghoQEGnDXTaJGhA9Shcj8JBaEAwlvxiyWtoQM3MzMzMhGhAtYFOG+ipaEBI4XoUrtZoQJDC9Shc9WhAO22g0wYZaUCX/GLJL1RpQASdNtBpdWlAXI/C9SiTaUDd3d3d3cVpQFVVVVVV7WlA6LSBThsPakD9YskvljBqQA==",
          "dtype": "f8"
         },
         "xaxis": "x",
         "y": {
          "bdata": "lEiL338U7z+PlLnWdTTrP5iZmZmZme0/1UgdeuwD6z+57NR/EeToPx63Hd+yS+s/w9IWrOoM7D/3h5KyW1zwPzgOkHB/3uk/jo8dY1sj7T9rH/rqrJXxPzpIz0HXSOo/mistTgPf7D8N1iYAYsztP2WdKw9I1vE/BSoKpv1Q9D8uZxVORwj3Px2CDnYYfvQ/fOf1GXTV9D/1g2Qqxxb3P8gSWoUl1fg/uwzU2hl/9T/DyHAuIh32Pw==",
          "dtype": "f8"
         },
         "yaxis": "y"
        }
       ],
       "layout": {
        "legend": {
         "title": {
          "text": "Climate Pattern"
         },
         "tracegroupgap": 0
        },
        "template": {
         "data": {
          "bar": [
           {
            "error_x": {
             "color": "#2a3f5f"
            },
            "error_y": {
             "color": "#2a3f5f"
            },
            "marker": {
             "line": {
              "color": "white",
              "width": 0.5
             },
             "pattern": {
              "fillmode": "overlay",
              "size": 10,
              "solidity": 0.2
             }
            },
            "type": "bar"
           }
          ],
          "barpolar": [
           {
            "marker": {
             "line": {
              "color": "white",
              "width": 0.5
             },
             "pattern": {
              "fillmode": "overlay",
              "size": 10,
              "solidity": 0.2
             }
            },
            "type": "barpolar"
           }
          ],
          "carpet": [
           {
            "aaxis": {
             "endlinecolor": "#2a3f5f",
             "gridcolor": "#C8D4E3",
             "linecolor": "#C8D4E3",
             "minorgridcolor": "#C8D4E3",
             "startlinecolor": "#2a3f5f"
            },
            "baxis": {
             "endlinecolor": "#2a3f5f",
             "gridcolor": "#C8D4E3",
             "linecolor": "#C8D4E3",
             "minorgridcolor": "#C8D4E3",
             "startlinecolor": "#2a3f5f"
            },
            "type": "carpet"
           }
          ],
          "choropleth": [
           {
            "colorbar": {
             "outlinewidth": 0,
             "ticks": ""
            },
            "type": "choropleth"
           }
          ],
          "contour": [
           {
            "colorbar": {
             "outlinewidth": 0,
             "ticks": ""
            },
            "colorscale": [
             [
              0,
              "#0d0887"
             ],
             [
              0.1111111111111111,
              "#46039f"
             ],
             [
              0.2222222222222222,
              "#7201a8"
             ],
             [
              0.3333333333333333,
              "#9c179e"
             ],
             [
              0.4444444444444444,
              "#bd3786"
             ],
             [
              0.5555555555555556,
              "#d8576b"
             ],
             [
              0.6666666666666666,
              "#ed7953"
             ],
             [
              0.7777777777777778,
              "#fb9f3a"
             ],
             [
              0.8888888888888888,
              "#fdca26"
             ],
             [
              1,
              "#f0f921"
             ]
            ],
            "type": "contour"
           }
          ],
          "contourcarpet": [
           {
            "colorbar": {
             "outlinewidth": 0,
             "ticks": ""
            },
            "type": "contourcarpet"
           }
          ],
          "heatmap": [
           {
            "colorbar": {
             "outlinewidth": 0,
             "ticks": ""
            },
            "colorscale": [
             [
              0,
              "#0d0887"
             ],
             [
              0.1111111111111111,
              "#46039f"
             ],
             [
              0.2222222222222222,
              "#7201a8"
             ],
             [
              0.3333333333333333,
              "#9c179e"
             ],
             [
              0.4444444444444444,
              "#bd3786"
             ],
             [
              0.5555555555555556,
              "#d8576b"
             ],
             [
              0.6666666666666666,
              "#ed7953"
             ],
             [
              0.7777777777777778,
              "#fb9f3a"
             ],
             [
              0.8888888888888888,
              "#fdca26"
             ],
             [
              1,
              "#f0f921"
             ]
            ],
            "type": "heatmap"
           }
          ],
          "histogram": [
           {
            "marker": {
             "pattern": {
              "fillmode": "overlay",
              "size": 10,
              "solidity": 0.2
             }
            },
            "type": "histogram"
           }
          ],
          "histogram2d": [
           {
            "colorbar": {
             "outlinewidth": 0,
             "ticks": ""
            },
            "colorscale": [
             [
              0,
              "#0d0887"
             ],
             [
              0.1111111111111111,
              "#46039f"
             ],
             [
              0.2222222222222222,
              "#7201a8"
             ],
             [
              0.3333333333333333,
              "#9c179e"
             ],
             [
              0.4444444444444444,
              "#bd3786"
             ],
             [
              0.5555555555555556,
              "#d8576b"
             ],
             [
              0.6666666666666666,
              "#ed7953"
             ],
             [
              0.7777777777777778,
              "#fb9f3a"
             ],
             [
              0.8888888888888888,
              "#fdca26"
             ],
             [
              1,
              "#f0f921"
             ]
            ],
            "type": "histogram2d"
           }
          ],
          "histogram2dcontour": [
           {
            "colorbar": {
             "outlinewidth": 0,
             "ticks": ""
            },
            "colorscale": [
             [
              0,
              "#0d0887"
             ],
             [
              0.1111111111111111,
              "#46039f"
             ],
             [
              0.2222222222222222,
              "#7201a8"
             ],
             [
              0.3333333333333333,
              "#9c179e"
             ],
             [
              0.4444444444444444,
              "#bd3786"
             ],
             [
              0.5555555555555556,
              "#d8576b"
             ],
             [
              0.6666666666666666,
              "#ed7953"
             ],
             [
              0.7777777777777778,
              "#fb9f3a"
             ],
             [
              0.8888888888888888,
              "#fdca26"
             ],
             [
              1,
              "#f0f921"
             ]
            ],
            "type": "histogram2dcontour"
           }
          ],
          "mesh3d": [
           {
            "colorbar": {
             "outlinewidth": 0,
             "ticks": ""
            },
            "type": "mesh3d"
           }
          ],
          "parcoords": [
           {
            "line": {
             "colorbar": {
              "outlinewidth": 0,
              "ticks": ""
             }
            },
            "type": "parcoords"
           }
          ],
          "pie": [
           {
            "automargin": true,
            "type": "pie"
           }
          ],
          "scatter": [
           {
            "fillpattern": {
             "fillmode": "overlay",
             "size": 10,
             "solidity": 0.2
            },
            "type": "scatter"
           }
          ],
          "scatter3d": [
           {
            "line": {
             "colorbar": {
              "outlinewidth": 0,
              "ticks": ""
             }
            },
            "marker": {
             "colorbar": {
              "outlinewidth": 0,
              "ticks": ""
             }
            },
            "type": "scatter3d"
           }
          ],
          "scattercarpet": [
           {
            "marker": {
             "colorbar": {
              "outlinewidth": 0,
              "ticks": ""
             }
            },
            "type": "scattercarpet"
           }
          ],
          "scattergeo": [
           {
            "marker": {
             "colorbar": {
              "outlinewidth": 0,
              "ticks": ""
             }
            },
            "type": "scattergeo"
           }
          ],
          "scattergl": [
           {
            "marker": {
             "colorbar": {
              "outlinewidth": 0,
              "ticks": ""
             }
            },
            "type": "scattergl"
           }
          ],
          "scattermap": [
           {
            "marker": {
             "colorbar": {
              "outlinewidth": 0,
              "ticks": ""
             }
            },
            "type": "scattermap"
           }
          ],
          "scattermapbox": [
           {
            "marker": {
             "colorbar": {
              "outlinewidth": 0,
              "ticks": ""
             }
            },
            "type": "scattermapbox"
           }
          ],
          "scatterpolar": [
           {
            "marker": {
             "colorbar": {
              "outlinewidth": 0,
              "ticks": ""
             }
            },
            "type": "scatterpolar"
           }
          ],
          "scatterpolargl": [
           {
            "marker": {
             "colorbar": {
              "outlinewidth": 0,
              "ticks": ""
             }
            },
            "type": "scatterpolargl"
           }
          ],
          "scatterternary": [
           {
            "marker": {
             "colorbar": {
              "outlinewidth": 0,
              "ticks": ""
             }
            },
            "type": "scatterternary"
           }
          ],
          "surface": [
           {
            "colorbar": {
             "outlinewidth": 0,
             "ticks": ""
            },
            "colorscale": [
             [
              0,
              "#0d0887"
             ],
             [
              0.1111111111111111,
              "#46039f"
             ],
             [
              0.2222222222222222,
              "#7201a8"
             ],
             [
              0.3333333333333333,
              "#9c179e"
             ],
             [
              0.4444444444444444,
              "#bd3786"
             ],
             [
              0.5555555555555556,
              "#d8576b"
             ],
             [
              0.6666666666666666,
              "#ed7953"
             ],
             [
              0.7777777777777778,
              "#fb9f3a"
             ],
             [
              0.8888888888888888,
              "#fdca26"
             ],
             [
              1,
              "#f0f921"
             ]
            ],
            "type": "surface"
           }
          ],
          "table": [
           {
            "cells": {
             "fill": {
              "color": "#EBF0F8"
             },
             "line": {
              "color": "white"
             }
            },
            "header": {
             "fill": {
              "color": "#C8D4E3"
             },
             "line": {
              "color": "white"
             }
            },
            "type": "table"
           }
          ]
         },
         "layout": {
          "annotationdefaults": {
           "arrowcolor": "#2a3f5f",
           "arrowhead": 0,
           "arrowwidth": 1
          },
          "autotypenumbers": "strict",
          "coloraxis": {
           "colorbar": {
            "outlinewidth": 0,
            "ticks": ""
           }
          },
          "colorscale": {
           "diverging": [
            [
             0,
             "#8e0152"
            ],
            [
             0.1,
             "#c51b7d"
            ],
            [
             0.2,
             "#de77ae"
            ],
            [
             0.3,
             "#f1b6da"
            ],
            [
             0.4,
             "#fde0ef"
            ],
            [
             0.5,
             "#f7f7f7"
            ],
            [
             0.6,
             "#e6f5d0"
            ],
            [
             0.7,
             "#b8e186"
            ],
            [
             0.8,
             "#7fbc41"
            ],
            [
             0.9,
             "#4d9221"
            ],
            [
             1,
             "#276419"
            ]
           ],
           "sequential": [
            [
             0,
             "#0d0887"
            ],
            [
             0.1111111111111111,
             "#46039f"
            ],
            [
             0.2222222222222222,
             "#7201a8"
            ],
            [
             0.3333333333333333,
             "#9c179e"
            ],
            [
             0.4444444444444444,
             "#bd3786"
            ],
            [
             0.5555555555555556,
             "#d8576b"
            ],
            [
             0.6666666666666666,
             "#ed7953"
            ],
            [
             0.7777777777777778,
             "#fb9f3a"
            ],
            [
             0.8888888888888888,
             "#fdca26"
            ],
            [
             1,
             "#f0f921"
            ]
           ],
           "sequentialminus": [
            [
             0,
             "#0d0887"
            ],
            [
             0.1111111111111111,
             "#46039f"
            ],
            [
             0.2222222222222222,
             "#7201a8"
            ],
            [
             0.3333333333333333,
             "#9c179e"
            ],
            [
             0.4444444444444444,
             "#bd3786"
            ],
            [
             0.5555555555555556,
             "#d8576b"
            ],
            [
             0.6666666666666666,
             "#ed7953"
            ],
            [
             0.7777777777777778,
             "#fb9f3a"
            ],
            [
             0.8888888888888888,
             "#fdca26"
            ],
            [
             1,
             "#f0f921"
            ]
           ]
          },
          "colorway": [
           "#636efa",
           "#EF553B",
           "#00cc96",
           "#ab63fa",
           "#FFA15A",
           "#19d3f3",
           "#FF6692",
           "#B6E880",
           "#FF97FF",
           "#FECB52"
          ],
          "font": {
           "color": "#2a3f5f"
          },
          "geo": {
           "bgcolor": "white",
           "lakecolor": "white",
           "landcolor": "white",
           "showlakes": true,
           "showland": true,
           "subunitcolor": "#C8D4E3"
          },
          "hoverlabel": {
           "align": "left"
          },
          "hovermode": "closest",
          "mapbox": {
           "style": "light"
          },
          "paper_bgcolor": "white",
          "plot_bgcolor": "white",
          "polar": {
           "angularaxis": {
            "gridcolor": "#EBF0F8",
            "linecolor": "#EBF0F8",
            "ticks": ""
           },
           "bgcolor": "white",
           "radialaxis": {
            "gridcolor": "#EBF0F8",
            "linecolor": "#EBF0F8",
            "ticks": ""
           }
          },
          "scene": {
           "xaxis": {
            "backgroundcolor": "white",
            "gridcolor": "#DFE8F3",
            "gridwidth": 2,
            "linecolor": "#EBF0F8",
            "showbackground": true,
            "ticks": "",
            "zerolinecolor": "#EBF0F8"
           },
           "yaxis": {
            "backgroundcolor": "white",
            "gridcolor": "#DFE8F3",
            "gridwidth": 2,
            "linecolor": "#EBF0F8",
            "showbackground": true,
            "ticks": "",
            "zerolinecolor": "#EBF0F8"
           },
           "zaxis": {
            "backgroundcolor": "white",
            "gridcolor": "#DFE8F3",
            "gridwidth": 2,
            "linecolor": "#EBF0F8",
            "showbackground": true,
            "ticks": "",
            "zerolinecolor": "#EBF0F8"
           }
          },
          "shapedefaults": {
           "line": {
            "color": "#2a3f5f"
           }
          },
          "ternary": {
           "aaxis": {
            "gridcolor": "#DFE8F3",
            "linecolor": "#A2B1C6",
            "ticks": ""
           },
           "baxis": {
            "gridcolor": "#DFE8F3",
            "linecolor": "#A2B1C6",
            "ticks": ""
           },
           "bgcolor": "white",
           "caxis": {
            "gridcolor": "#DFE8F3",
            "linecolor": "#A2B1C6",
            "ticks": ""
           }
          },
          "title": {
           "x": 0.05
          },
          "xaxis": {
           "automargin": true,
           "gridcolor": "#EBF0F8",
           "linecolor": "#EBF0F8",
           "ticks": "",
           "title": {
            "standoff": 15
           },
           "zerolinecolor": "#EBF0F8",
           "zerolinewidth": 2
          },
          "yaxis": {
           "automargin": true,
           "gridcolor": "#EBF0F8",
           "linecolor": "#EBF0F8",
           "ticks": "",
           "title": {
            "standoff": 15
           },
           "zerolinecolor": "#EBF0F8",
           "zerolinewidth": 2
          }
         }
        },
        "title": {
         "text": "Clustering of Years Based on Climate Patterns"
        },
        "xaxis": {
         "anchor": "y",
         "domain": [
          0,
          1
         ],
         "title": {
          "text": "CO₂ Concentration (ppm)"
         }
        },
        "yaxis": {
         "anchor": "x",
         "domain": [
          0,
          1
         ],
         "title": {
          "text": "Tempreature Change"
         }
        }
       }
      }
     },
     "metadata": {},
     "output_type": "display_data"
    }
   ],
   "source": [
    "from sklearn.cluster import KMeans\n",
    "from sklearn.preprocessing import StandardScaler\n",
    "import numpy as np\n",
    "\n",
    "# preparing the data for clustering\n",
    "clustering_data = merged_data[[\"Tempreature Change\", \"CO₂ Concentration\"]]\n",
    "\n",
    "scaler = StandardScaler()\n",
    "scaled_data = scaler.fit_transform(clustering_data)\n",
    "\n",
    "# applying K-Means clustering\n",
    "kmeans = KMeans(n_clusters=3, random_state=42)\n",
    "clustering_data['Cluster'] = kmeans.fit_predict(scaled_data)\n",
    "\n",
    "# adding labels for periods with similar climate patterns\n",
    "clustering_data['Label'] = clustering_data['Cluster'].map({\n",
    "    0: 'Moderate Temp & CO₂',\n",
    "    1: 'High Temp & CO₂',\n",
    "    2: 'Low Temp & CO₂',\n",
    "})\n",
    "\n",
    "import plotly.express as px\n",
    "\n",
    "fig_clusters = px.scatter(\n",
    "    clustering_data,\n",
    "    x=\"CO₂ Concentration\",\n",
    "    y=\"Tempreature Change\",\n",
    "    color=\"Label\",\n",
    "    color_discrete_sequence=px.colors.qualitative.Set2,\n",
    "    labels={\n",
    "        \"CO₂ Concentration\": \"CO₂ Concentration (ppm)\",\n",
    "        \"Temperature Change\": \"Temperature Change (°C)\",\n",
    "        \"Label\": \"Climate Pattern\"\n",
    "    },\n",
    "    title=\"Clustering of Years Based on Climate Patterns\"\n",
    ")\n",
    "\n",
    "fig_clusters.update_layout(\n",
    "    template=\"plotly_white\",\n",
    "    legend_title=\"Climate Pattern\"\n",
    ")\n",
    "\n",
    "fig_clusters.show()\n",
    "fig_clusters.write_image('../outputs/Clustering of Years Based on Climate Patterns.jpeg')"
   ]
  },
  {
   "cell_type": "markdown",
   "id": "cb606730-4e05-43fc-a9d4-0dfbcbce4b4c",
   "metadata": {},
   "source": [
    "The clustering graph segments years into three distinct climate patterns based on CO₂ concentration and temperature change: low CO₂ and temperature (green), moderate CO₂ and temperature (orange), and high CO₂ and temperature (blue). The progression from green to orange and then to blue clusters reflects a clear trend of increasing temperature change corresponding to rising CO₂ levels, effectively illustrating the correlation between greenhouse gas concentrations and global temperature variations."
   ]
  },
  {
   "cell_type": "markdown",
   "id": "e5679a48-c1b2-4df2-b854-28328a26be46",
   "metadata": {},
   "source": [
    "This clustering emphasizes the cumulative and escalating impact of carbon emissions on global tempreature patterns, which illustrates the need for targeted interventions to mitigate future increases."
   ]
  },
  {
   "cell_type": "markdown",
   "id": "79edbaa9-a5d6-4b3b-a14b-645db93d0bf7",
   "metadata": {},
   "source": [
    "# Predicting Tempreature Changes Under What If Analysis"
   ]
  },
  {
   "cell_type": "markdown",
   "id": "ff7dc326-e1c9-44a2-b419-895e91edff95",
   "metadata": {},
   "source": [
    "Now, we will use a simple linear regression model to simulate how changes in CO₂ concentrations might influence global temperatures. By leveraging the historical relationship between CO₂ concentrations and temperature anomalies, this model allows us to predict the potential impact of different emission scenarios."
   ]
  },
  {
   "cell_type": "markdown",
   "id": "90b3a546-83f4-4230-855f-569f50591f25",
   "metadata": {},
   "source": [
    "First, we will train a linear regression model with CO₂ concentrations as the input and temperature anomalies as the output. Once the model is trained, we can simulate hypothetical scenarios where CO₂ concentrations increase or decrease by a specific percentage."
   ]
  },
  {
   "cell_type": "markdown",
   "id": "ec2388b1-25e9-4d5f-936d-ca16d952a3b3",
   "metadata": {},
   "source": [
    "For each scenario, we will adjust the current average CO₂ concentration by the specified percentage, feed it into the model, and predict the corresponding temperature anomaly. The scenarios we simulate include:"
   ]
  },
  {
   "cell_type": "markdown",
   "id": "af001c9d-b8a3-4cd8-888c-197faf88c334",
   "metadata": {},
   "source": [
    "1. <b>Increase CO₂ by 10%</b>: Predict the rise in tempreature anomalies.\n",
    "2. <b>Decrease CO₂ by 10%</b>: Estimate the cooling effect\n",
    "3. <b>Increase CO₂ by 20%</b>: Analyze the impact of more aggressive emissions growth.\n",
    "4. <b>Decrease CO₂ by 20%</b>: Evaluate the benifit of significant emission reductions"
   ]
  },
  {
   "cell_type": "code",
   "execution_count": 19,
   "id": "b00c067b-70a8-44a0-b084-d2c39cae58d5",
   "metadata": {},
   "outputs": [
    {
     "data": {
      "text/plain": [
       "{'Increase CO₂ by 10%': np.float64(1.0866445037958163),\n",
       " 'Decrease CO₂ by 10%': np.float64(-0.059993041237237144),\n",
       " 'Increase CO₂ by 20%': np.float64(1.6599632763123422),\n",
       " 'Decrease CO₂ by 20%': np.float64(-0.6333118137537621)}"
      ]
     },
     "execution_count": 19,
     "metadata": {},
     "output_type": "execute_result"
    }
   ],
   "source": [
    "# setting up a simple predictive model using linear regression\n",
    "from sklearn.linear_model import LinearRegression\n",
    "\n",
    "# Preparing data\n",
    "X = merged_data[[\"CO₂ Concentration\"]].values  # CO₂ concentration as input\n",
    "y = merged_data[\"Tempreature Change\"].values   # temperature change as target\n",
    "\n",
    "model = LinearRegression()\n",
    "model.fit(X, y)\n",
    "\n",
    "# function to simulate \"what-if\" scenarios\n",
    "def simulate_temperature_change(co2_percentage_change):\n",
    "    # Calculate new CO2 concentrations\n",
    "    current_mean_co2 = merged_data[\"CO₂ Concentration\"].mean()\n",
    "    new_co2 = current_mean_co2 * (1 + co2_percentage_change / 100)\n",
    "\n",
    "    # predict temperature change\n",
    "    predicted_temp = model.predict([[new_co2]])\n",
    "    return predicted_temp[0]\n",
    "\n",
    "# simulating scenarios\n",
    "scenarios = {\n",
    "    \"Increase CO₂ by 10%\": simulate_temperature_change(10),\n",
    "    \"Decrease CO₂ by 10%\": simulate_temperature_change(-10),\n",
    "    \"Increase CO₂ by 20%\": simulate_temperature_change(20),\n",
    "    \"Decrease CO₂ by 20%\": simulate_temperature_change(-20),\n",
    "}\n",
    "\n",
    "scenarios"
   ]
  },
  {
   "cell_type": "markdown",
   "id": "08da5fa6-46d7-4efc-9a44-f6538309d394",
   "metadata": {},
   "source": [
    "A 10% increase in CO₂ results in a notable rise in temperature anomalies, which demonstrates the sensitivity of global temperatures to CO₂ levels. Conversely, a 10-20% reduction in CO₂ could lead to significant cooling effects, which will potentially reverse some warming trends."
   ]
  },
  {
   "cell_type": "markdown",
   "id": "0977ea9d-f158-4841-a338-2e75b9f14298",
   "metadata": {},
   "source": [
    "# Summary"
   ]
  },
  {
   "cell_type": "markdown",
   "id": "c0ed23ed-0bc7-425c-88ac-aae30f74a8ac",
   "metadata": {},
   "source": [
    "Our analysis highlights a strong positive correlation between rising CO₂ concentrations and global temperature anomalies, with CO₂ levels increasing at a faster rate than temperature changes. Time-series and clustering analyses reveal clear trends of escalating emissions driving temperature increases, while seasonal variations underscore the moderating role of natural carbon sinks. Lagged effects suggest that current CO₂ levels have the most significant impact on temperature changes, with diminishing influence from past emissions. Simulating “what-if” scenarios demonstrate the sensitivity of global temperatures to CO₂ levels, which emphasizes that even modest reductions in emissions could significantly mitigate global warming. These findings underline the urgent need for actionable policies to address climate change effectively."
   ]
  },
  {
   "cell_type": "code",
   "execution_count": null,
   "id": "fc1c665f-0737-42c5-957e-d800128d4641",
   "metadata": {},
   "outputs": [],
   "source": []
  }
 ],
 "metadata": {
  "kernelspec": {
   "display_name": "da_ml",
   "language": "python",
   "name": "python3"
  },
  "language_info": {
   "codemirror_mode": {
    "name": "ipython",
    "version": 3
   },
   "file_extension": ".py",
   "mimetype": "text/x-python",
   "name": "python",
   "nbconvert_exporter": "python",
   "pygments_lexer": "ipython3",
   "version": "3.13.5"
  },
  "widgets": {
   "application/vnd.jupyter.widget-state+json": {
    "state": {},
    "version_major": 2,
    "version_minor": 0
   }
  }
 },
 "nbformat": 4,
 "nbformat_minor": 5
}
